{
 "cells": [
  {
   "cell_type": "markdown",
   "metadata": {
    "id": "rOJnZuhy8TlD"
   },
   "source": [
    "# Gesture Recognition Project"
   ]
  },
  {
   "cell_type": "markdown",
   "metadata": {
    "id": "SocL02Lw8TlK"
   },
   "source": [
    "# Overview - Business Understanding\n",
    "\n",
    "Imagine you are working as a data scientist at a home electronics company which manufactures state of the art smart televisions. You want to develop a cool feature in the smart-TV that can recognise five different gestures performed by the user which will help users control the TV without using a remote.\n",
    "\n",
    "The gestures are continuously monitored by the webcam mounted on the TV. Each gesture corresponds to a specific command:\n",
    "\n",
    "- Thumbs up:  Increase the volume\n",
    "- Thumbs down: Decrease the volume\n",
    "- Left swipe: 'Jump' backwards 10 seconds\n",
    "- Right swipe: 'Jump' forward 10 seconds  \n",
    "- Stop: Pause the movie\n",
    " \n",
    "\n",
    "Each video is a sequence of 30 frames (or images)."
   ]
  },
  {
   "cell_type": "markdown",
   "metadata": {
    "id": "miSYozFD8TlM"
   },
   "source": [
    "##  Business Objectives\n",
    "\n",
    "You want to develop a cool feature in the smart-TV that can recognise five different gestures performed by the user which will help users control the TV without using a remote using a custom convolutional neural network in TensorFlow.\n",
    "\n",
    "Approch will be\n",
    "- Generator: The generator should be able to take a batch of videos as input without any error. Steps like cropping, resizing and normalization should be performed successfully.\n",
    "\n",
    "- Model: Develop a model that is able to train without any errors which will be judged on the total number of parameters (as the inference(prediction) time should be less) and the accuracy achieved. As suggested by Snehansu, start training on a small amount of data and then proceed further.\n",
    "\n",
    "- Write up: This should contain the detailed procedure followed in choosing the final model. The write up should start with the reason for choosing the base model, then highlight the reasons and metrics taken into consideration to modify and experiment to arrive at the final model."
   ]
  },
  {
   "cell_type": "markdown",
   "metadata": {
    "id": "uLHeeQAt8TlR"
   },
   "source": [
    "# IMPORT LIBRARIES AND DATASETS"
   ]
  },
  {
   "cell_type": "code",
   "execution_count": 3,
   "metadata": {},
   "outputs": [
    {
     "name": "stdout",
     "output_type": "stream",
     "text": [
      "Requirement already satisfied: opencv-Python in /opt/anaconda3/lib/python3.8/site-packages (4.7.0.68)\r\n",
      "Requirement already satisfied: numpy>=1.17.0; python_version >= \"3.7\" in /opt/anaconda3/lib/python3.8/site-packages (from opencv-Python) (1.19.2)\r\n"
     ]
    }
   ],
   "source": [
    "!pip install opencv-Python"
   ]
  },
  {
   "cell_type": "code",
   "execution_count": 39,
   "metadata": {
    "executionInfo": {
     "elapsed": 2,
     "status": "ok",
     "timestamp": 1676305517836,
     "user": {
      "displayName": "Pravin Kumar",
      "userId": "02905340823542035095"
     },
     "user_tz": -330
    },
    "id": "C9NXBkqb8TlR"
   },
   "outputs": [],
   "source": [
    "# Importing the necessary libraries\n",
    "\n",
    "import numpy as np\n",
    "import os\n",
    "\n",
    "import datetime\n",
    "import os\n",
    "import warnings\n",
    "warnings.filterwarnings(\"ignore\")\n",
    "import abc\n",
    "from sys import getsizeof\n",
    "\n",
    "np.random.seed(30)\n",
    "import random as rn\n",
    "rn.seed(30)\n",
    "from keras import backend as K\n",
    "import tensorflow as tf\n",
    "\n",
    "tf.random.set_seed(30)\n",
    "\n",
    "import cv2\n",
    "import matplotlib.pyplot as plt\n",
    "%matplotlib inline\n",
    "\n",
    "# importing some other libraries which will be needed for model building.\n",
    "\n",
    "from keras.models import Sequential, Model\n",
    "from keras.layers import Dense, GRU, Flatten, TimeDistributed, Flatten, BatchNormalization, Activation\n",
    "from keras.layers.convolutional import Conv3D, MaxPooling3D, Conv2D, MaxPooling2D\n",
    "from keras.layers import LSTM\n",
    "from keras.callbacks import ModelCheckpoint, ReduceLROnPlateau, EarlyStopping\n",
    "from keras import optimizers\n",
    "from keras.layers import Dropout"
   ]
  },
  {
   "cell_type": "markdown",
   "metadata": {
    "id": "oJ1uWjr68TlS"
   },
   "source": [
    "We set the random seed so that the results don't vary drastically."
   ]
  },
  {
   "cell_type": "markdown",
   "metadata": {
    "id": "fXgqVN-R8TlU"
   },
   "source": [
    "# Data Loading and Description\n",
    "\n",
    "The training data consists of a few hundred videos categorised into one of the five classes. Each video (typically 2-3 seconds long) is divided into a sequence of 30 frames(images). These videos have been recorded by various people performing one of the five gestures in front of a webcam - similar to what the smart TV will use. "
   ]
  },
  {
   "cell_type": "markdown",
   "metadata": {
    "id": "n1BChgZr8TlU"
   },
   "source": [
    "The data is in a zip file. The zip file contains a 'train' and a 'val' folder with two CSV files for the two folders. These folders are in turn divided into subfolders where each subfolder represents a video of a particular gesture. Each subfolder, i.e. a video, contains 30 frames (or images). Note that all images in a particular video subfolder have the same dimensions but different videos may have different dimensions. Specifically, videos have two types of dimensions - either 360x360 or 120x160 (depending on the webcam used to record the videos). Hence, you will need to do some pre-processing to standardise the videos. \n",
    "\n",
    " \n",
    "\n",
    "Each row of the CSV file represents one video and contains three main pieces of information - the name of the subfolder containing the 30 images of the video, the name of the gesture and the numeric label (between 0-4) of the video."
   ]
  },
  {
   "cell_type": "code",
   "execution_count": null,
   "metadata": {
    "colab": {
     "base_uri": "https://localhost:8080/"
    },
    "executionInfo": {
     "elapsed": 28957,
     "status": "ok",
     "timestamp": 1676305725708,
     "user": {
      "displayName": "Pravin Kumar",
      "userId": "02905340823542035095"
     },
     "user_tz": -330
    },
    "id": "izqP9YWw8TlV",
    "outputId": "e1be1738-7f93-49ed-8f16-9df244aff6cd"
   },
   "outputs": [],
   "source": [
    "#mount google drive\n",
    "from google.colab import drive\n",
    "drive.mount('/content/gdrive')"
   ]
  },
  {
   "cell_type": "code",
   "execution_count": null,
   "metadata": {
    "colab": {
     "base_uri": "https://localhost:8080/"
    },
    "executionInfo": {
     "elapsed": 961,
     "status": "ok",
     "timestamp": 1676305731061,
     "user": {
      "displayName": "Pravin Kumar",
      "userId": "02905340823542035095"
     },
     "user_tz": -330
    },
    "id": "2fRLajRc8TlV",
    "outputId": "9498a6f0-f617-457a-edcc-1769fd475123"
   },
   "outputs": [],
   "source": [
    "projectPath = '/content/dgdriverive/My Drive/ML_AI/Workspace/GestureRecognition/'\n",
    "%cd /content/gdrive/My Drive/ML_AI/Workspace/GestureRecognition//"
   ]
  },
  {
   "cell_type": "code",
   "execution_count": null,
   "metadata": {
    "id": "e1ogIqfd8TlV"
   },
   "outputs": [],
   "source": [
    "# #unzip the dataset\n",
    "!unzip \"/content/gdrive/My Drive/ML_AI/Workspace/GestureRecognition/Project_data.zip\" > /dev/null"
   ]
  },
  {
   "cell_type": "code",
   "execution_count": 40,
   "metadata": {
    "executionInfo": {
     "elapsed": 914,
     "status": "ok",
     "timestamp": 1676305736775,
     "user": {
      "displayName": "Pravin Kumar",
      "userId": "02905340823542035095"
     },
     "user_tz": -330
    },
    "id": "aLN2FolL8TlV"
   },
   "outputs": [],
   "source": [
    "# Defining the path for train and test images\n",
    "# Please Update the paths of the train and test dataset to run code\n",
    "# project_folder='/content/gdrive/My Drive/ML_AI/Workspace/GestureRecognition/Project_data/'\n",
    "\n",
    "# if running onn local machine \n",
    "project_folder='Project_data/'"
   ]
  },
  {
   "cell_type": "markdown",
   "metadata": {
    "id": "0GFgZPL78TlW"
   },
   "source": [
    "##  Visualize the Model History Result \n",
    "##### Utils function to visualize Model History Result the training/validation accuracies/losses."
   ]
  },
  {
   "cell_type": "code",
   "execution_count": 7,
   "metadata": {
    "executionInfo": {
     "elapsed": 2,
     "status": "ok",
     "timestamp": 1676305739709,
     "user": {
      "displayName": "Pravin Kumar",
      "userId": "02905340823542035095"
     },
     "user_tz": -330
    },
    "id": "jX4bHJbZ8TlW"
   },
   "outputs": [],
   "source": [
    "# function to visualize Model History Result the training/validation accuracies/losses.\n",
    "\n",
    "def visualizeModelHistoryResult(history):\n",
    "    fig, axes = plt.subplots(nrows=1, ncols=2, figsize=(15,4))\n",
    "    axes[0].plot(history.history['loss'])   \n",
    "    axes[0].plot(history.history['val_loss'])\n",
    "    axes[0].legend(['loss','val_loss'])\n",
    "\n",
    "    axes[1].plot(history.history['categorical_accuracy'])   \n",
    "    axes[1].plot(history.history['val_categorical_accuracy'])\n",
    "    axes[1].legend(['categorical_accuracy','val_categorical_accuracy'])"
   ]
  },
  {
   "cell_type": "markdown",
   "metadata": {
    "id": "rPf9ShHv8TlW"
   },
   "source": [
    "# Generator - Define Base Class to create Model with generator\n",
    "This is one of the most important part of the code. The overall structure of the generator has been given. In the generator, you are going to preprocess the images as you have images of 2 different dimensions as well as create a batch of video frames. You have to experiment with `img_idx`, `y`,`z` and normalization such that you get high accuracy."
   ]
  },
  {
   "cell_type": "code",
   "execution_count": 41,
   "metadata": {
    "executionInfo": {
     "elapsed": 1677,
     "status": "ok",
     "timestamp": 1676292216361,
     "user": {
      "displayName": "Pravin Kumar",
      "userId": "02905340823542035095"
     },
     "user_tz": -330
    },
    "id": "v_I4_ExD8TlX"
   },
   "outputs": [],
   "source": [
    "class ModelBuilder(metaclass= abc.ABCMeta):\n",
    "    # initialisng the path where project data resides\n",
    "    def initialize_path(self,project_folder):\n",
    "        self.train_doc = np.random.permutation(open(project_folder + '/' + 'train.csv').readlines())\n",
    "        self.val_doc = np.random.permutation(open(project_folder + '/' + 'val.csv').readlines())\n",
    "        self.train_path = project_folder + '/' + 'train'\n",
    "        self.val_path =  project_folder + '/' + 'val'\n",
    "        self.num_train_sequences = len(self.train_doc)\n",
    "        self.num_val_sequences = len(self.val_doc)\n",
    "    # initialising the image properties    \n",
    "    def initialize_image_properties(self,image_height=100,image_width=100):\n",
    "        self.image_height=image_height\n",
    "        self.image_width=image_width\n",
    "        self.channels=3\n",
    "        self.num_classes=5\n",
    "        self.total_frames=30\n",
    "    # initialising the batch size, frames to sample and the no. of epochs\n",
    "    def initialize_hyperparams(self,frames_to_sample=30,batch_size=20,num_epochs=20):\n",
    "        self.frames_to_sample=frames_to_sample\n",
    "        self.batch_size=batch_size\n",
    "        self.num_epochs=num_epochs\n",
    "        \n",
    "    # MOST IMPORTANT PART HERE - The generator function        \n",
    "    def generator(self,source_path, folder_list, augment=False):\n",
    "        img_idx = np.round(np.linspace(0,self.total_frames-1,self.frames_to_sample)).astype(int)\n",
    "        batch_size=self.batch_size\n",
    "        while True:\n",
    "            t = np.random.permutation(folder_list)\n",
    "            num_batches = len(t)//batch_size\n",
    "        \n",
    "            for batch in range(num_batches): \n",
    "                batch_data, batch_labels= self.one_batch_data(source_path,t,batch,batch_size,img_idx,augment)\n",
    "                yield batch_data, batch_labels \n",
    "\n",
    "            remaining_seq=len(t)%batch_size\n",
    "        \n",
    "            if (remaining_seq != 0):\n",
    "                batch_data, batch_labels= self.one_batch_data(source_path,t,num_batches,batch_size,img_idx,augment,remaining_seq)\n",
    "                yield batch_data, batch_labels \n",
    "    \n",
    "    \n",
    "    def one_batch_data(self,source_path,t,batch,batch_size,img_idx,augment,remaining_seq=0):\n",
    "    \n",
    "        seq_len = remaining_seq if remaining_seq else batch_size\n",
    "    \n",
    "        batch_data = np.zeros((seq_len,len(img_idx),self.image_height,self.image_width,self.channels)) \n",
    "        batch_labels = np.zeros((seq_len,self.num_classes)) \n",
    "    \n",
    "        if (augment): batch_data_aug = np.zeros((seq_len,len(img_idx),self.image_height,self.image_width,self.channels))\n",
    "\n",
    "        \n",
    "        for folder in range(seq_len): \n",
    "            imgs = os.listdir(source_path+'/'+ t[folder + (batch*batch_size)].split(';')[0]) \n",
    "            for idx,item in enumerate(img_idx):\n",
    "                #performing image reading and resizing\n",
    "                image = cv2.imread(source_path+'/'+ t[folder + (batch*batch_size)].strip().split(';')[0]+'/'+imgs[item], cv2.IMREAD_UNCHANGED).astype(np.float32)\n",
    "                image_resized=cv2.resize(image,(self.image_height,self.image_width))\n",
    "                \n",
    "#                 print(\"Size of original image: {}\".format(image.shape))\n",
    "#                 print(\"Size of new resized image: {}\".format(image_resized.shape))\n",
    "                \n",
    "                #normalizing the images\n",
    "                batch_data[folder,idx,:,:,0] = (image_resized[:,:,0])/255\n",
    "                batch_data[folder,idx,:,:,1] = (image_resized[:,:,1])/255\n",
    "                batch_data[folder,idx,:,:,2] = (image_resized[:,:,2])/255\n",
    "            \n",
    "                if (augment):\n",
    "                    shifted = cv2.warpAffine(image, \n",
    "                                             np.float32([[1, 0, np.random.randint(-30,30)],[0, 1, np.random.randint(-30,30)]]), \n",
    "                                            (image.shape[1], image.shape[0]))\n",
    "                    \n",
    "                    gray = cv2.cvtColor(shifted,cv2.COLOR_BGR2GRAY)\n",
    "\n",
    "                    x0, y0 = np.argwhere(gray > 0).min(axis=0)\n",
    "                    x1, y1 = np.argwhere(gray > 0).max(axis=0) \n",
    "                    # cropping the images to have the targeted gestures and remove the noise from the images.\n",
    "                    cropped=shifted[x0:x1,y0:y1,:]\n",
    "\n",
    "                    # resize image\n",
    "                    image_resized=cv2.resize(cropped,(self.image_height,self.image_width))\n",
    "                    \n",
    "                    #shifted = cv2.warpAffine(image_resized, \n",
    "                    #                        np.float32([[1, 0, np.random.randint(-3,3)],[0, 1, np.random.randint(-3,3)]]), \n",
    "                    #                        (image_resized.shape[1], image_resized.shape[0]))\n",
    "            \n",
    "                    batch_data_aug[folder,idx,:,:,0] = (image_resized[:,:,0])/255\n",
    "                    batch_data_aug[folder,idx,:,:,1] = (image_resized[:,:,1])/255\n",
    "                    batch_data_aug[folder,idx,:,:,2] = (image_resized[:,:,2])/255\n",
    "                \n",
    "            \n",
    "            batch_labels[folder, int(t[folder + (batch*batch_size)].strip().split(';')[2])] = 1\n",
    "            \n",
    "    \n",
    "        if (augment):\n",
    "            batch_data=np.concatenate([batch_data,batch_data_aug])\n",
    "            batch_labels=np.concatenate([batch_labels,batch_labels])\n",
    "\n",
    "        \n",
    "        return(batch_data,batch_labels)\n",
    "    \n",
    "    \n",
    "    def train_model(self, model, augment_data=False):\n",
    "        train_generator = self.generator(self.train_path, self.train_doc,augment=augment_data)\n",
    "        val_generator = self.generator(self.val_path, self.val_doc)\n",
    "\n",
    "        model_name = 'model_init' + '_' + str(datetime.datetime.now()).replace(' ','').replace(':','_') + '/'\n",
    "    \n",
    "        if not os.path.exists(model_name):\n",
    "            os.mkdir(model_name)\n",
    "        \n",
    "        filepath = model_name + 'model-{epoch:05d}-{loss:.5f}-{categorical_accuracy:.5f}-{val_loss:.5f}-{val_categorical_accuracy:.5f}.h5'\n",
    "\n",
    "        checkpoint = ModelCheckpoint(filepath, monitor='val_loss', verbose=1, save_best_only=True, save_weights_only=False, mode='auto', period=1)\n",
    "        LR = ReduceLROnPlateau(monitor='val_loss', factor=0.2, verbose=1, patience=4)\n",
    "        \n",
    "        earlystop = EarlyStopping( monitor=\"val_loss\", min_delta=0,patience=10,verbose=1)\n",
    "        callbacks_list = [checkpoint, LR, earlystop]\n",
    "\n",
    "        if (self.num_train_sequences%self.batch_size) == 0:\n",
    "            steps_per_epoch = int(self.num_train_sequences/self.batch_size)\n",
    "        else:\n",
    "            steps_per_epoch = (self.num_train_sequences//self.batch_size) + 1\n",
    "\n",
    "        if (self.num_val_sequences%self.batch_size) == 0:\n",
    "            validation_steps = int(self.num_val_sequences/self.batch_size)\n",
    "        else:\n",
    "            validation_steps = (self.num_val_sequences//self.batch_size) + 1\n",
    "    \n",
    "        history=model.fit_generator(train_generator, steps_per_epoch=steps_per_epoch, epochs=self.num_epochs, verbose=1, \n",
    "                            callbacks=callbacks_list, validation_data=val_generator, \n",
    "                            validation_steps=validation_steps, class_weight=None, workers=1, initial_epoch=0)\n",
    "        return history\n",
    "\n",
    "        \n",
    "    @abc.abstractmethod\n",
    "    def define_model(self):\n",
    "        pass"
   ]
  },
  {
   "cell_type": "markdown",
   "metadata": {
    "id": "Fqn3WfMZ8TlY"
   },
   "source": [
    "# Model Building & training\n",
    "Here you make the model using different functionalities that Keras provides. Remember to use `Conv3D` and `MaxPooling3D` and not `Conv2D` and `Maxpooling2D` for a 3D convolution model. You would want to use `TimeDistributed` while building a Conv2D + RNN model. Also remember that the last layer is the softmax. Design the network in such a way that the model is able to give good accuracy on the least number of parameters so that it can fit in the memory of the webcam."
   ]
  },
  {
   "cell_type": "markdown",
   "metadata": {
    "id": "oDyor73R8TlY"
   },
   "source": [
    "### Define Model for 3D Convulsion"
   ]
  },
  {
   "cell_type": "code",
   "execution_count": 42,
   "metadata": {
    "executionInfo": {
     "elapsed": 848,
     "status": "ok",
     "timestamp": 1676292226096,
     "user": {
      "displayName": "Pravin Kumar",
      "userId": "02905340823542035095"
     },
     "user_tz": -330
    },
    "id": "5ceQMope8TlY"
   },
   "outputs": [],
   "source": [
    "class ModelConv3D1(ModelBuilder):\n",
    "    \n",
    "    def define_model(self):\n",
    "\n",
    "        model = Sequential()\n",
    "        model.add(Conv3D(16, (3, 3, 3), padding='same',\n",
    "                 input_shape=(self.frames_to_sample,self.image_height,self.image_width,self.channels)))\n",
    "        model.add(Activation('relu'))\n",
    "        model.add(BatchNormalization())\n",
    "        model.add(MaxPooling3D(pool_size=(2, 2, 2)))\n",
    "\n",
    "        model.add(Conv3D(32, (2, 2, 2), padding='same'))\n",
    "        model.add(Activation('relu'))\n",
    "        model.add(BatchNormalization())\n",
    "        model.add(MaxPooling3D(pool_size=(2, 2, 2)))\n",
    "\n",
    "        model.add(Conv3D(64, (2, 2, 2), padding='same'))\n",
    "        model.add(Activation('relu'))\n",
    "        model.add(BatchNormalization())\n",
    "        model.add(MaxPooling3D(pool_size=(2, 2, 2)))\n",
    "\n",
    "        model.add(Conv3D(128, (2, 2, 2), padding='same'))\n",
    "        model.add(Activation('relu'))\n",
    "        model.add(BatchNormalization())\n",
    "        model.add(MaxPooling3D(pool_size=(2, 2, 2)))\n",
    "\n",
    "        model.add(Flatten())\n",
    "        model.add(Dense(128,activation='relu'))\n",
    "        model.add(BatchNormalization())\n",
    "        model.add(Dropout(0.5))\n",
    "\n",
    "        model.add(Dense(64,activation='relu'))\n",
    "        model.add(BatchNormalization())\n",
    "        model.add(Dropout(0.25))\n",
    "\n",
    "\n",
    "        model.add(Dense(self.num_classes,activation='softmax'))\n",
    "\n",
    "        optimiser = optimizers.Adam()\n",
    "        #optimiser = 'sgd'\n",
    "        model.compile(optimizer=optimiser, loss='categorical_crossentropy', metrics=['categorical_accuracy'])\n",
    "        return model"
   ]
  },
  {
   "cell_type": "code",
   "execution_count": 69,
   "metadata": {
    "colab": {
     "base_uri": "https://localhost:8080/"
    },
    "executionInfo": {
     "elapsed": 5828,
     "status": "ok",
     "timestamp": 1676292239184,
     "user": {
      "displayName": "Pravin Kumar",
      "userId": "02905340823542035095"
     },
     "user_tz": -330
    },
    "id": "aF7ofW9J8TlZ",
    "outputId": "f8079875-cad8-4524-a501-a93c83870e4d",
    "scrolled": true
   },
   "outputs": [
    {
     "name": "stdout",
     "output_type": "stream",
     "text": [
      "Model: \"sequential_9\"\n",
      "_________________________________________________________________\n",
      "Layer (type)                 Output Shape              Param #   \n",
      "=================================================================\n",
      "conv3d_36 (Conv3D)           (None, 30, 160, 160, 16)  1312      \n",
      "_________________________________________________________________\n",
      "activation_36 (Activation)   (None, 30, 160, 160, 16)  0         \n",
      "_________________________________________________________________\n",
      "batch_normalization_54 (Batc (None, 30, 160, 160, 16)  64        \n",
      "_________________________________________________________________\n",
      "max_pooling3d_36 (MaxPooling (None, 15, 80, 80, 16)    0         \n",
      "_________________________________________________________________\n",
      "conv3d_37 (Conv3D)           (None, 15, 80, 80, 32)    4128      \n",
      "_________________________________________________________________\n",
      "activation_37 (Activation)   (None, 15, 80, 80, 32)    0         \n",
      "_________________________________________________________________\n",
      "batch_normalization_55 (Batc (None, 15, 80, 80, 32)    128       \n",
      "_________________________________________________________________\n",
      "max_pooling3d_37 (MaxPooling (None, 7, 40, 40, 32)     0         \n",
      "_________________________________________________________________\n",
      "conv3d_38 (Conv3D)           (None, 7, 40, 40, 64)     16448     \n",
      "_________________________________________________________________\n",
      "activation_38 (Activation)   (None, 7, 40, 40, 64)     0         \n",
      "_________________________________________________________________\n",
      "batch_normalization_56 (Batc (None, 7, 40, 40, 64)     256       \n",
      "_________________________________________________________________\n",
      "max_pooling3d_38 (MaxPooling (None, 3, 20, 20, 64)     0         \n",
      "_________________________________________________________________\n",
      "conv3d_39 (Conv3D)           (None, 3, 20, 20, 128)    65664     \n",
      "_________________________________________________________________\n",
      "activation_39 (Activation)   (None, 3, 20, 20, 128)    0         \n",
      "_________________________________________________________________\n",
      "batch_normalization_57 (Batc (None, 3, 20, 20, 128)    512       \n",
      "_________________________________________________________________\n",
      "max_pooling3d_39 (MaxPooling (None, 1, 10, 10, 128)    0         \n",
      "_________________________________________________________________\n",
      "flatten_9 (Flatten)          (None, 12800)             0         \n",
      "_________________________________________________________________\n",
      "dense_27 (Dense)             (None, 128)               1638528   \n",
      "_________________________________________________________________\n",
      "batch_normalization_58 (Batc (None, 128)               512       \n",
      "_________________________________________________________________\n",
      "dropout_18 (Dropout)         (None, 128)               0         \n",
      "_________________________________________________________________\n",
      "dense_28 (Dense)             (None, 64)                8256      \n",
      "_________________________________________________________________\n",
      "batch_normalization_59 (Batc (None, 64)                256       \n",
      "_________________________________________________________________\n",
      "dropout_19 (Dropout)         (None, 64)                0         \n",
      "_________________________________________________________________\n",
      "dense_29 (Dense)             (None, 5)                 325       \n",
      "=================================================================\n",
      "Total params: 1,736,389\n",
      "Trainable params: 1,735,525\n",
      "Non-trainable params: 864\n",
      "_________________________________________________________________\n"
     ]
    }
   ],
   "source": [
    "conv_3d1=ModelConv3D1()\n",
    "conv_3d1.initialize_path(project_folder)\n",
    "conv_3d1.initialize_image_properties(image_height=160,image_width=160)\n",
    "conv_3d1.initialize_hyperparams(frames_to_sample=30,batch_size=10,num_epochs=1)\n",
    "conv_3d1_model=conv_3d1.define_model()\n",
    "conv_3d1_model.summary()"
   ]
  },
  {
   "cell_type": "markdown",
   "metadata": {
    "id": "kLrR5Z6B8TlZ"
   },
   "source": [
    "##### Sample Cropping"
   ]
  },
  {
   "cell_type": "code",
   "execution_count": 70,
   "metadata": {
    "colab": {
     "base_uri": "https://localhost:8080/",
     "height": 221
    },
    "executionInfo": {
     "elapsed": 21381,
     "status": "ok",
     "timestamp": 1676292269550,
     "user": {
      "displayName": "Pravin Kumar",
      "userId": "02905340823542035095"
     },
     "user_tz": -330
    },
    "id": "r3BYku3N8TlZ",
    "outputId": "ce6c431f-6688-46a0-8b61-9045b4ed85b9"
   },
   "outputs": [
    {
     "data": {
      "text/plain": [
       "<matplotlib.image.AxesImage at 0x7fb0738c2e80>"
      ]
     },
     "execution_count": 70,
     "metadata": {},
     "output_type": "execute_result"
    },
    {
     "data": {
      "image/png": "[encoded data removed]",
      "text/plain": [
       "<Figure size 432x288 with 2 Axes>"
      ]
     },
     "metadata": {
      "needs_background": "light"
     },
     "output_type": "display_data"
    }
   ],
   "source": [
    "test_generator=ModelConv3D1()\n",
    "test_generator.initialize_path(project_folder)\n",
    "test_generator.initialize_image_properties(image_height=160,image_width=160)\n",
    "test_generator.initialize_hyperparams(frames_to_sample=30,batch_size=3,num_epochs=1)\n",
    "\n",
    "g=test_generator.generator(test_generator.val_path,test_generator.val_doc,augment=True)\n",
    "batch_data, batch_labels=next(g)\n",
    "fig, axes = plt.subplots(nrows=1, ncols=2)\n",
    "axes[0].imshow(batch_data[0,15,:,:,:])   \n",
    "axes[1].imshow(batch_data[3,15,:,:,:])   "
   ]
  },
  {
   "cell_type": "markdown",
   "metadata": {
    "id": "VuI8VJ6D8TlZ"
   },
   "source": [
    "## Experimenting with Image resolution, number of frames to use and batch_size"
   ]
  },
  {
   "cell_type": "code",
   "execution_count": null,
   "metadata": {
    "id": "M5cIUhs28TlZ"
   },
   "outputs": [],
   "source": [
    "#conv_3d1.train_model(conv_3d1_model)"
   ]
  },
  {
   "cell_type": "markdown",
   "metadata": {
    "id": "_QUsLYsw8Tla"
   },
   "source": [
    "### We had hit the limit on memory resources with image resolution of 160x160 with 30 frames and batch_size of 40...we get the below error\n",
    "\n",
    "ResourceExhaustedError: OOM when allocating tensor with shape[40,16,30,160,160] and type float on /job:localhost/replica:0/task:0/device:GPU:0 by allocator GPU_0_bfc"
   ]
  },
  {
   "cell_type": "code",
   "execution_count": 71,
   "metadata": {
    "colab": {
     "base_uri": "https://localhost:8080/"
    },
    "executionInfo": {
     "elapsed": 523,
     "status": "ok",
     "timestamp": 1676292275437,
     "user": {
      "displayName": "Pravin Kumar",
      "userId": "02905340823542035095"
     },
     "user_tz": -330
    },
    "id": "8I6Q6w0v8Tla",
    "outputId": "2175c477-8d87-484b-953b-8122ca50787b"
   },
   "outputs": [
    {
     "name": "stdout",
     "output_type": "stream",
     "text": [
      "Memory util is 3.662109524011612 Gigs\n"
     ]
    }
   ],
   "source": [
    "print(\"Memory util is {} Gigs\". format(getsizeof(np.zeros((40,16,30,160,160)))/(1024*1024*1024)))"
   ]
  },
  {
   "cell_type": "markdown",
   "metadata": {
    "id": "VVnJQUHX8Tla"
   },
   "source": [
    "##### So lets trade-off between these parameters"
   ]
  },
  {
   "cell_type": "markdown",
   "metadata": {
    "collapsed": true,
    "id": "5Gm85w3C8Tla"
   },
   "source": [
    "##### Below are the experiments to see how training time is affected by image resolution, number of images in sequence and batch size"
   ]
  },
  {
   "cell_type": "markdown",
   "metadata": {},
   "source": [
    "## Experiment Number 1 : Conv3D"
   ]
  },
  {
   "cell_type": "code",
   "execution_count": 72,
   "metadata": {
    "colab": {
     "base_uri": "https://localhost:8080/"
    },
    "executionInfo": {
     "elapsed": 5461717,
     "status": "ok",
     "timestamp": 1676297751921,
     "user": {
      "displayName": "Pravin Kumar",
      "userId": "02905340823542035095"
     },
     "user_tz": -330
    },
    "id": "QX52dcFw8Tlb",
    "outputId": "dda0899c-3e25-41b3-c335-b198528be7bf"
   },
   "outputs": [
    {
     "name": "stdout",
     "output_type": "stream",
     "text": [
      "Total Params: 687813\n",
      "WARNING:tensorflow:`period` argument is deprecated. Please use `save_freq` to specify the frequency in number of batches seen.\n",
      "Epoch 1/2\n",
      "34/34 [==============================] - 598s 18s/step - loss: 1.8705 - categorical_accuracy: 0.3584 - val_loss: 3.3447 - val_categorical_accuracy: 0.1600\n",
      "\n",
      "Epoch 00001: val_loss improved from inf to 3.34472, saving model to model_init_2023-02-1323_57_16.749250/model-00001-1.64296-0.39668-3.34472-0.16000.h5\n",
      "Epoch 2/2\n",
      "34/34 [==============================] - 591s 17s/step - loss: 1.1519 - categorical_accuracy: 0.5309 - val_loss: 5.2336 - val_categorical_accuracy: 0.1700\n",
      "\n",
      "Epoch 00002: val_loss did not improve from 3.34472\n"
     ]
    },
    {
     "data": {
      "text/plain": [
       "<tensorflow.python.keras.callbacks.History at 0x7fb0738b7d30>"
      ]
     },
     "execution_count": 72,
     "metadata": {},
     "output_type": "execute_result"
    }
   ],
   "source": [
    "conv_3d1=ModelConv3D1()\n",
    "conv_3d1.initialize_path(project_folder)\n",
    "conv_3d1.initialize_image_properties(image_height=100,image_width=100)\n",
    "conv_3d1.initialize_hyperparams(frames_to_sample=30,batch_size=20,num_epochs=2)\n",
    "conv_3d1_model=conv_3d1.define_model()\n",
    "print(\"Total Params:\", conv_3d1_model.count_params())\n",
    "conv_3d1.train_model(conv_3d1_model)"
   ]
  },
  {
   "cell_type": "markdown",
   "metadata": {},
   "source": [
    "## Experiment Number 2 : Conv3D"
   ]
  },
  {
   "cell_type": "code",
   "execution_count": 74,
   "metadata": {
    "colab": {
     "base_uri": "https://localhost:8080/"
    },
    "executionInfo": {
     "elapsed": 328046,
     "status": "ok",
     "timestamp": 1676298079919,
     "user": {
      "displayName": "Pravin Kumar",
      "userId": "02905340823542035095"
     },
     "user_tz": -330
    },
    "id": "ksVNfwyE8Tlb",
    "outputId": "53c9ca5b-675b-4056-d26a-5dd3054861b4"
   },
   "outputs": [
    {
     "name": "stdout",
     "output_type": "stream",
     "text": [
      "Total Params: 1736389\n",
      "WARNING:tensorflow:`period` argument is deprecated. Please use `save_freq` to specify the frequency in number of batches seen.\n",
      "Epoch 1/2\n",
      "23/23 [==============================] - 1586s 68s/step - loss: 1.6527 - categorical_accuracy: 0.3669 - val_loss: 3.2045 - val_categorical_accuracy: 0.1600\n",
      "\n",
      "Epoch 00001: val_loss improved from inf to 3.20453, saving model to model_init_2023-02-1400_17_07.710241/model-00001-1.48132-0.43741-3.20453-0.16000.h5\n",
      "Epoch 2/2\n",
      "23/23 [==============================] - 1543s 66s/step - loss: 0.9717 - categorical_accuracy: 0.6035 - val_loss: 6.0981 - val_categorical_accuracy: 0.1500\n",
      "\n",
      "Epoch 00002: val_loss did not improve from 3.20453\n"
     ]
    },
    {
     "data": {
      "text/plain": [
       "<tensorflow.python.keras.callbacks.History at 0x7fb190a639a0>"
      ]
     },
     "execution_count": 74,
     "metadata": {},
     "output_type": "execute_result"
    }
   ],
   "source": [
    "conv_3d1=ModelConv3D1()\n",
    "conv_3d1.initialize_path(project_folder)\n",
    "conv_3d1.initialize_image_properties(image_height=160,image_width=160)\n",
    "conv_3d1.initialize_hyperparams(frames_to_sample=30,batch_size=30,num_epochs=2)\n",
    "conv_3d1_model=conv_3d1.define_model()\n",
    "print(\"Total Params:\", conv_3d1_model.count_params())\n",
    "conv_3d1.train_model(conv_3d1_model)"
   ]
  },
  {
   "cell_type": "markdown",
   "metadata": {
    "id": "Auo-3APy8Tlb"
   },
   "source": [
    "- As we see from the above experiments **\"image resolution\"** and **number of frames** in sequence have more impact on training time than **batch_size**\n",
    "- We can consider the Batch Size around 15-40\n",
    "- We will change the resoulution (160,160), (120,120) according the model performance\n"
   ]
  },
  {
   "cell_type": "markdown",
   "metadata": {
    "id": "rVsYAo5C8Tlb"
   },
   "source": [
    "## Experiment Number 3 : Conv3D\n",
    "\n",
    "Base Model - Batch Size = 40 and No. of Epochs = 15"
   ]
  },
  {
   "cell_type": "code",
   "execution_count": 75,
   "metadata": {
    "colab": {
     "background_save": true
    },
    "executionInfo": {
     "elapsed": 2465,
     "status": "ok",
     "timestamp": 1676298089425,
     "user": {
      "displayName": "Pravin Kumar",
      "userId": "02905340823542035095"
     },
     "user_tz": -330
    },
    "id": "zu8yWkaa8Tlc"
   },
   "outputs": [],
   "source": [
    "class ModelConv3D1(ModelBuilder):\n",
    "    \n",
    "    def define_model(self,filtersize=(3,3,3),dense_neurons=64,dropout=0.25):\n",
    "\n",
    "        model = Sequential()\n",
    "        model.add(Conv3D(16, filtersize, padding='same',\n",
    "                 input_shape=(self.frames_to_sample,self.image_height,self.image_width,self.channels)))\n",
    "        model.add(Activation('relu'))\n",
    "        model.add(BatchNormalization())\n",
    "        model.add(MaxPooling3D(pool_size=(2, 2, 2)))\n",
    "\n",
    "        model.add(Conv3D(32, filtersize, padding='same'))\n",
    "        model.add(Activation('relu'))\n",
    "        model.add(BatchNormalization())\n",
    "        model.add(MaxPooling3D(pool_size=(2, 2, 2)))\n",
    "\n",
    "        model.add(Conv3D(64, filtersize, padding='same'))\n",
    "        model.add(Activation('relu'))\n",
    "        model.add(BatchNormalization())\n",
    "        model.add(MaxPooling3D(pool_size=(2, 2, 2)))\n",
    "\n",
    "        model.add(Conv3D(128, filtersize, padding='same'))\n",
    "        model.add(Activation('relu'))\n",
    "        model.add(BatchNormalization())\n",
    "        model.add(MaxPooling3D(pool_size=(2, 2, 2)))\n",
    "\n",
    "        model.add(Flatten())\n",
    "        model.add(Dense(dense_neurons,activation='relu'))\n",
    "        model.add(BatchNormalization())\n",
    "        model.add(Dropout(dropout))\n",
    "\n",
    "        model.add(Dense(dense_neurons,activation='relu'))\n",
    "        model.add(BatchNormalization())\n",
    "        model.add(Dropout(dropout))\n",
    "\n",
    "\n",
    "        model.add(Dense(self.num_classes,activation='softmax'))\n",
    "\n",
    "        optimiser = optimizers.Adam()\n",
    "        model.compile(optimizer=optimiser, loss='categorical_crossentropy', metrics=['categorical_accuracy'])\n",
    "        return model"
   ]
  },
  {
   "cell_type": "code",
   "execution_count": 76,
   "metadata": {
    "colab": {
     "base_uri": "https://localhost:8080/"
    },
    "executionInfo": {
     "elapsed": 50,
     "status": "ok",
     "timestamp": 1676298096528,
     "user": {
      "displayName": "Pravin Kumar",
      "userId": "02905340823542035095"
     },
     "user_tz": -330
    },
    "id": "Hd5Kx4hV8Tlc",
    "outputId": "a5690eae-1177-4764-c814-a525031b68eb"
   },
   "outputs": [
    {
     "name": "stdout",
     "output_type": "stream",
     "text": [
      "Model: \"sequential_12\"\n",
      "_________________________________________________________________\n",
      "Layer (type)                 Output Shape              Param #   \n",
      "=================================================================\n",
      "conv3d_48 (Conv3D)           (None, 20, 160, 160, 16)  1312      \n",
      "_________________________________________________________________\n",
      "activation_48 (Activation)   (None, 20, 160, 160, 16)  0         \n",
      "_________________________________________________________________\n",
      "batch_normalization_72 (Batc (None, 20, 160, 160, 16)  64        \n",
      "_________________________________________________________________\n",
      "max_pooling3d_48 (MaxPooling (None, 10, 80, 80, 16)    0         \n",
      "_________________________________________________________________\n",
      "conv3d_49 (Conv3D)           (None, 10, 80, 80, 32)    13856     \n",
      "_________________________________________________________________\n",
      "activation_49 (Activation)   (None, 10, 80, 80, 32)    0         \n",
      "_________________________________________________________________\n",
      "batch_normalization_73 (Batc (None, 10, 80, 80, 32)    128       \n",
      "_________________________________________________________________\n",
      "max_pooling3d_49 (MaxPooling (None, 5, 40, 40, 32)     0         \n",
      "_________________________________________________________________\n",
      "conv3d_50 (Conv3D)           (None, 5, 40, 40, 64)     55360     \n",
      "_________________________________________________________________\n",
      "activation_50 (Activation)   (None, 5, 40, 40, 64)     0         \n",
      "_________________________________________________________________\n",
      "batch_normalization_74 (Batc (None, 5, 40, 40, 64)     256       \n",
      "_________________________________________________________________\n",
      "max_pooling3d_50 (MaxPooling (None, 2, 20, 20, 64)     0         \n",
      "_________________________________________________________________\n",
      "conv3d_51 (Conv3D)           (None, 2, 20, 20, 128)    221312    \n",
      "_________________________________________________________________\n",
      "activation_51 (Activation)   (None, 2, 20, 20, 128)    0         \n",
      "_________________________________________________________________\n",
      "batch_normalization_75 (Batc (None, 2, 20, 20, 128)    512       \n",
      "_________________________________________________________________\n",
      "max_pooling3d_51 (MaxPooling (None, 1, 10, 10, 128)    0         \n",
      "_________________________________________________________________\n",
      "flatten_12 (Flatten)         (None, 12800)             0         \n",
      "_________________________________________________________________\n",
      "dense_36 (Dense)             (None, 64)                819264    \n",
      "_________________________________________________________________\n",
      "batch_normalization_76 (Batc (None, 64)                256       \n",
      "_________________________________________________________________\n",
      "dropout_24 (Dropout)         (None, 64)                0         \n",
      "_________________________________________________________________\n",
      "dense_37 (Dense)             (None, 64)                4160      \n",
      "_________________________________________________________________\n",
      "batch_normalization_77 (Batc (None, 64)                256       \n",
      "_________________________________________________________________\n",
      "dropout_25 (Dropout)         (None, 64)                0         \n",
      "_________________________________________________________________\n",
      "dense_38 (Dense)             (None, 5)                 325       \n",
      "=================================================================\n",
      "Total params: 1,117,061\n",
      "Trainable params: 1,116,325\n",
      "Non-trainable params: 736\n",
      "_________________________________________________________________\n"
     ]
    }
   ],
   "source": [
    "conv_3d1=ModelConv3D1()\n",
    "conv_3d1.initialize_path(project_folder)\n",
    "conv_3d1.initialize_image_properties(image_height=160,image_width=160)\n",
    "conv_3d1.initialize_hyperparams(frames_to_sample=20,batch_size=40,num_epochs=15)\n",
    "conv_3d1_model=conv_3d1.define_model()\n",
    "conv_3d1_model.summary()"
   ]
  },
  {
   "cell_type": "code",
   "execution_count": 77,
   "metadata": {
    "colab": {
     "base_uri": "https://localhost:8080/"
    },
    "executionInfo": {
     "elapsed": 1024654,
     "status": "ok",
     "timestamp": 1676299131822,
     "user": {
      "displayName": "Pravin Kumar",
      "userId": "02905340823542035095"
     },
     "user_tz": -330
    },
    "id": "lJ_tMiKS8Tlc",
    "outputId": "6f560559-eb00-4766-e615-a72d901fe3c7"
   },
   "outputs": [
    {
     "name": "stdout",
     "output_type": "stream",
     "text": [
      "Total Params: 1117061\n",
      "WARNING:tensorflow:`period` argument is deprecated. Please use `save_freq` to specify the frequency in number of batches seen.\n",
      "Epoch 1/15\n",
      "17/17 [==============================] - 1081s 63s/step - loss: 1.9309 - categorical_accuracy: 0.3421 - val_loss: 1.5831 - val_categorical_accuracy: 0.2300\n",
      "\n",
      "Epoch 00001: val_loss improved from inf to 1.58313, saving model to model_init_2023-02-1401_10_03.428233/model-00001-1.65847-0.40121-1.58313-0.23000.h5\n",
      "Epoch 2/15\n",
      "17/17 [==============================] - 1092s 64s/step - loss: 1.0322 - categorical_accuracy: 0.5867 - val_loss: 2.3319 - val_categorical_accuracy: 0.2000\n",
      "\n",
      "Epoch 00002: val_loss did not improve from 1.58313\n",
      "Epoch 3/15\n",
      "17/17 [==============================] - 1078s 63s/step - loss: 0.7578 - categorical_accuracy: 0.7136 - val_loss: 2.7993 - val_categorical_accuracy: 0.1700\n",
      "\n",
      "Epoch 00003: val_loss did not improve from 1.58313\n",
      "Epoch 4/15\n",
      "17/17 [==============================] - 1068s 62s/step - loss: 0.5448 - categorical_accuracy: 0.8046 - val_loss: 3.3265 - val_categorical_accuracy: 0.2100\n",
      "\n",
      "Epoch 00004: val_loss did not improve from 1.58313\n",
      "Epoch 5/15\n",
      "17/17 [==============================] - 1065s 63s/step - loss: 0.4297 - categorical_accuracy: 0.8718 - val_loss: 3.5363 - val_categorical_accuracy: 0.2300\n",
      "\n",
      "Epoch 00005: val_loss did not improve from 1.58313\n",
      "\n",
      "Epoch 00005: ReduceLROnPlateau reducing learning rate to 0.00020000000949949026.\n",
      "Epoch 6/15\n",
      "17/17 [==============================] - 1064s 63s/step - loss: 0.3658 - categorical_accuracy: 0.8902 - val_loss: 3.8695 - val_categorical_accuracy: 0.2100\n",
      "\n",
      "Epoch 00006: val_loss did not improve from 1.58313\n",
      "Epoch 7/15\n",
      "17/17 [==============================] - 1063s 62s/step - loss: 0.3254 - categorical_accuracy: 0.9001 - val_loss: 4.1277 - val_categorical_accuracy: 0.2100\n",
      "\n",
      "Epoch 00007: val_loss did not improve from 1.58313\n",
      "Epoch 8/15\n",
      "17/17 [==============================] - 1066s 63s/step - loss: 0.2867 - categorical_accuracy: 0.9147 - val_loss: 4.3877 - val_categorical_accuracy: 0.2100\n",
      "\n",
      "Epoch 00008: val_loss did not improve from 1.58313\n",
      "Epoch 9/15\n",
      "17/17 [==============================] - 1069s 63s/step - loss: 0.2429 - categorical_accuracy: 0.9216 - val_loss: 4.3547 - val_categorical_accuracy: 0.2200\n",
      "\n",
      "Epoch 00009: val_loss did not improve from 1.58313\n",
      "\n",
      "Epoch 00009: ReduceLROnPlateau reducing learning rate to 4.0000001899898055e-05.\n",
      "Epoch 10/15\n",
      "17/17 [==============================] - 1068s 63s/step - loss: 0.2560 - categorical_accuracy: 0.9314 - val_loss: 4.4251 - val_categorical_accuracy: 0.2100\n",
      "\n",
      "Epoch 00010: val_loss did not improve from 1.58313\n",
      "Epoch 11/15\n",
      "17/17 [==============================] - 1065s 63s/step - loss: 0.2163 - categorical_accuracy: 0.9414 - val_loss: 4.5120 - val_categorical_accuracy: 0.2300\n",
      "\n",
      "Epoch 00011: val_loss did not improve from 1.58313\n",
      "Epoch 00011: early stopping\n"
     ]
    }
   ],
   "source": [
    "print(\"Total Params:\", conv_3d1_model.count_params())\n",
    "history_model1 = conv_3d1.train_model(conv_3d1_model)"
   ]
  },
  {
   "cell_type": "code",
   "execution_count": 78,
   "metadata": {
    "colab": {
     "base_uri": "https://localhost:8080/",
     "height": 265
    },
    "executionInfo": {
     "elapsed": 759,
     "status": "ok",
     "timestamp": 1676299215250,
     "user": {
      "displayName": "Pravin Kumar",
      "userId": "02905340823542035095"
     },
     "user_tz": -330
    },
    "id": "UJrBGrjB8Tlc",
    "outputId": "f44c0ec6-654e-4833-e10b-7f8800651ebc"
   },
   "outputs": [
    {
     "data": {
      "image/png": "[encoded data removed]",
      "text/plain": [
       "<Figure size 1080x288 with 2 Axes>"
      ]
     },
     "metadata": {
      "needs_background": "light"
     },
     "output_type": "display_data"
    }
   ],
   "source": [
    "visualizeModelHistoryResult(history_model1)"
   ]
  },
  {
   "cell_type": "markdown",
   "metadata": {
    "id": "z5jrZpu98Tld"
   },
   "source": [
    "**Model is clearly overfitting.**"
   ]
  },
  {
   "cell_type": "markdown",
   "metadata": {
    "id": "WL0x_Lmm8Tli"
   },
   "source": [
    "## Experiment Number 4 : Conv3D\n",
    "\n",
    "Adding dropout layers - Batch Size = 20 and No. of Epochs = 25"
   ]
  },
  {
   "cell_type": "code",
   "execution_count": 79,
   "metadata": {
    "colab": {
     "base_uri": "https://localhost:8080/"
    },
    "executionInfo": {
     "elapsed": 2323,
     "status": "ok",
     "timestamp": 1676299228625,
     "user": {
      "displayName": "Pravin Kumar",
      "userId": "02905340823542035095"
     },
     "user_tz": -330
    },
    "id": "DFdZJJfW8Tli",
    "outputId": "b5e3d16e-8ce8-4ad8-b6ba-6760080f402b"
   },
   "outputs": [
    {
     "name": "stdout",
     "output_type": "stream",
     "text": [
      "Model: \"sequential_13\"\n",
      "_________________________________________________________________\n",
      "Layer (type)                 Output Shape              Param #   \n",
      "=================================================================\n",
      "conv3d_52 (Conv3D)           (None, 20, 160, 160, 16)  1312      \n",
      "_________________________________________________________________\n",
      "activation_52 (Activation)   (None, 20, 160, 160, 16)  0         \n",
      "_________________________________________________________________\n",
      "batch_normalization_78 (Batc (None, 20, 160, 160, 16)  64        \n",
      "_________________________________________________________________\n",
      "max_pooling3d_52 (MaxPooling (None, 10, 80, 80, 16)    0         \n",
      "_________________________________________________________________\n",
      "conv3d_53 (Conv3D)           (None, 10, 80, 80, 32)    13856     \n",
      "_________________________________________________________________\n",
      "activation_53 (Activation)   (None, 10, 80, 80, 32)    0         \n",
      "_________________________________________________________________\n",
      "batch_normalization_79 (Batc (None, 10, 80, 80, 32)    128       \n",
      "_________________________________________________________________\n",
      "max_pooling3d_53 (MaxPooling (None, 5, 40, 40, 32)     0         \n",
      "_________________________________________________________________\n",
      "conv3d_54 (Conv3D)           (None, 5, 40, 40, 64)     55360     \n",
      "_________________________________________________________________\n",
      "activation_54 (Activation)   (None, 5, 40, 40, 64)     0         \n",
      "_________________________________________________________________\n",
      "batch_normalization_80 (Batc (None, 5, 40, 40, 64)     256       \n",
      "_________________________________________________________________\n",
      "max_pooling3d_54 (MaxPooling (None, 2, 20, 20, 64)     0         \n",
      "_________________________________________________________________\n",
      "conv3d_55 (Conv3D)           (None, 2, 20, 20, 128)    221312    \n",
      "_________________________________________________________________\n",
      "activation_55 (Activation)   (None, 2, 20, 20, 128)    0         \n",
      "_________________________________________________________________\n",
      "batch_normalization_81 (Batc (None, 2, 20, 20, 128)    512       \n",
      "_________________________________________________________________\n",
      "max_pooling3d_55 (MaxPooling (None, 1, 10, 10, 128)    0         \n",
      "_________________________________________________________________\n",
      "flatten_13 (Flatten)         (None, 12800)             0         \n",
      "_________________________________________________________________\n",
      "dense_39 (Dense)             (None, 256)               3277056   \n",
      "_________________________________________________________________\n",
      "batch_normalization_82 (Batc (None, 256)               1024      \n",
      "_________________________________________________________________\n",
      "dropout_26 (Dropout)         (None, 256)               0         \n",
      "_________________________________________________________________\n",
      "dense_40 (Dense)             (None, 256)               65792     \n",
      "_________________________________________________________________\n",
      "batch_normalization_83 (Batc (None, 256)               1024      \n",
      "_________________________________________________________________\n",
      "dropout_27 (Dropout)         (None, 256)               0         \n",
      "_________________________________________________________________\n",
      "dense_41 (Dense)             (None, 5)                 1285      \n",
      "=================================================================\n",
      "Total params: 3,638,981\n",
      "Trainable params: 3,637,477\n",
      "Non-trainable params: 1,504\n",
      "_________________________________________________________________\n"
     ]
    }
   ],
   "source": [
    "conv_3d2=ModelConv3D1()\n",
    "conv_3d2.initialize_path(project_folder)\n",
    "conv_3d2.initialize_image_properties(image_height=160,image_width=160)\n",
    "conv_3d2.initialize_hyperparams(frames_to_sample=20,batch_size=20,num_epochs=25)\n",
    "conv_3d2_model=conv_3d2.define_model(dense_neurons=256,dropout=0.5)\n",
    "conv_3d2_model.summary()"
   ]
  },
  {
   "cell_type": "code",
   "execution_count": null,
   "metadata": {
    "colab": {
     "base_uri": "https://localhost:8080/"
    },
    "executionInfo": {
     "elapsed": 1831187,
     "status": "ok",
     "timestamp": 1676301065836,
     "user": {
      "displayName": "Pravin Kumar",
      "userId": "02905340823542035095"
     },
     "user_tz": -330
    },
    "id": "KMPvB5Yq8Tlj",
    "outputId": "c3f32a02-5b48-4903-fcab-cd95610c235f"
   },
   "outputs": [
    {
     "name": "stdout",
     "output_type": "stream",
     "text": [
      "Total Params: 3638981\n",
      "WARNING:tensorflow:`period` argument is deprecated. Please use `save_freq` to specify the frequency in number of batches seen.\n",
      "Epoch 1/25\n",
      "34/34 [==============================] - 2133s 63s/step - loss: 2.1635 - categorical_accuracy: 0.3466 - val_loss: 1.7364 - val_categorical_accuracy: 0.3100\n",
      "\n",
      "Epoch 00001: val_loss improved from inf to 1.73641, saving model to model_init_2023-02-1404_26_27.805544/model-00001-1.90351-0.40196-1.73641-0.31000.h5\n",
      "Epoch 2/25\n",
      "34/34 [==============================] - 2121s 62s/step - loss: 1.3300 - categorical_accuracy: 0.5226 - val_loss: 2.6817 - val_categorical_accuracy: 0.2100\n",
      "\n",
      "Epoch 00002: val_loss did not improve from 1.73641\n",
      "Epoch 3/25\n",
      "34/34 [==============================] - 2114s 62s/step - loss: 1.1691 - categorical_accuracy: 0.5964 - val_loss: 3.3305 - val_categorical_accuracy: 0.2900\n",
      "\n",
      "Epoch 00003: val_loss did not improve from 1.73641\n",
      "Epoch 4/25\n",
      "34/34 [==============================] - 2136s 63s/step - loss: 1.0616 - categorical_accuracy: 0.5931 - val_loss: 3.9196 - val_categorical_accuracy: 0.2200\n",
      "\n",
      "Epoch 00004: val_loss did not improve from 1.73641\n",
      "Epoch 5/25\n",
      "34/34 [==============================] - 2130s 63s/step - loss: 0.9584 - categorical_accuracy: 0.6613 - val_loss: 3.9905 - val_categorical_accuracy: 0.2500\n",
      "\n",
      "Epoch 00005: val_loss did not improve from 1.73641\n",
      "\n",
      "Epoch 00005: ReduceLROnPlateau reducing learning rate to 0.00020000000949949026.\n",
      "Epoch 6/25\n",
      "34/34 [==============================] - 2122s 62s/step - loss: 0.8652 - categorical_accuracy: 0.6769 - val_loss: 5.2398 - val_categorical_accuracy: 0.2100\n",
      "\n",
      "Epoch 00006: val_loss did not improve from 1.73641\n",
      "Epoch 7/25\n",
      "34/34 [==============================] - 2130s 63s/step - loss: 0.7814 - categorical_accuracy: 0.7177 - val_loss: 6.0014 - val_categorical_accuracy: 0.2200\n",
      "\n",
      "Epoch 00007: val_loss did not improve from 1.73641\n",
      "Epoch 8/25\n",
      "34/34 [==============================] - 2135s 63s/step - loss: 0.6552 - categorical_accuracy: 0.7463 - val_loss: 7.8499 - val_categorical_accuracy: 0.2000\n",
      "\n",
      "Epoch 00008: val_loss did not improve from 1.73641\n",
      "Epoch 9/25\n",
      "34/34 [==============================] - 2111s 62s/step - loss: 0.6968 - categorical_accuracy: 0.7518 - val_loss: 4.1440 - val_categorical_accuracy: 0.2300\n",
      "\n",
      "Epoch 00009: val_loss did not improve from 1.73641\n",
      "\n",
      "Epoch 00009: ReduceLROnPlateau reducing learning rate to 4.0000001899898055e-05.\n",
      "Epoch 10/25\n",
      "34/34 [==============================] - 2127s 63s/step - loss: 0.6356 - categorical_accuracy: 0.7426 - val_loss: 3.8318 - val_categorical_accuracy: 0.2300\n",
      "\n",
      "Epoch 00010: val_loss did not improve from 1.73641\n",
      "Epoch 11/25\n",
      " 8/34 [======>.......................] - ETA: 28:52 - loss: 0.5728 - categorical_accuracy: 0.7917"
     ]
    }
   ],
   "source": [
    "print(\"Total Params:\", conv_3d2_model.count_params())\n",
    "history_model2=conv_3d2.train_model(conv_3d2_model,augment_data=True)"
   ]
  },
  {
   "cell_type": "code",
   "execution_count": null,
   "metadata": {
    "colab": {
     "base_uri": "https://localhost:8080/",
     "height": 267
    },
    "executionInfo": {
     "elapsed": 21715,
     "status": "ok",
     "timestamp": 1676301124318,
     "user": {
      "displayName": "Pravin Kumar",
      "userId": "02905340823542035095"
     },
     "user_tz": -330
    },
    "id": "2_-G72Gw8Tlj",
    "outputId": "c8df3598-eea6-4c9f-afa4-b5bc67a1bc37"
   },
   "outputs": [],
   "source": [
    "visualizeModelHistoryResult(history_model2)"
   ]
  },
  {
   "cell_type": "markdown",
   "metadata": {
    "id": "QnbuJTn88Tlj"
   },
   "source": [
    "##### We can see  val_loss did not improve from 1.73641 so earlystopping stops the epoch automatically!! \n",
    "- Last Epoch stop on 11/25!! \n",
    "- Best weights save automatically. The validation accuracy of only 23% and training accuracy of 74%. \n",
    "- Next we can try to reduce the filter size and image resolution and see if get better results. Moreover since we see minor oscillations in loss."
   ]
  },
  {
   "cell_type": "markdown",
   "metadata": {
    "id": "mNhRgnRV8Tln"
   },
   "source": [
    "## Experiment Number 5 : Conv3D\n",
    "\n",
    "Adding dropout at convolution layers"
   ]
  },
  {
   "cell_type": "code",
   "execution_count": 9,
   "metadata": {
    "executionInfo": {
     "elapsed": 632,
     "status": "ok",
     "timestamp": 1676304124484,
     "user": {
      "displayName": "Pravin Kumar",
      "userId": "02905340823542035095"
     },
     "user_tz": -330
    },
    "id": "8xCxMKqE8Tln"
   },
   "outputs": [],
   "source": [
    "class ModelConv3D5(ModelBuilder):\n",
    "    \n",
    "    def define_model(self,filtersize=(3,3,3),dense_neurons=64,dropout=0.25):\n",
    "\n",
    "        model = Sequential()\n",
    "        model.add(Conv3D(16, filtersize, padding='same',\n",
    "                 input_shape=(self.frames_to_sample,self.image_height,self.image_width,self.channels)))\n",
    "        model.add(Activation('relu'))\n",
    "        model.add(BatchNormalization())\n",
    "        \n",
    "        model.add(Conv3D(16, filtersize, padding='same',\n",
    "                 input_shape=(self.frames_to_sample,self.image_height,self.image_width,self.channels)))\n",
    "        model.add(Activation('relu'))\n",
    "        model.add(BatchNormalization())\n",
    "        \n",
    "        model.add(MaxPooling3D(pool_size=(2, 2, 2)))\n",
    "        model.add(Dropout(dropout))\n",
    "\n",
    "        model.add(Conv3D(32, filtersize, padding='same'))\n",
    "        model.add(Activation('relu'))\n",
    "        model.add(BatchNormalization())\n",
    "        \n",
    "        model.add(Conv3D(32, filtersize, padding='same'))\n",
    "        model.add(Activation('relu'))\n",
    "        model.add(BatchNormalization())\n",
    "        \n",
    "        model.add(MaxPooling3D(pool_size=(2, 2, 2)))\n",
    "        model.add(Dropout(dropout))\n",
    "\n",
    "        model.add(Conv3D(64, filtersize, padding='same'))\n",
    "        model.add(Activation('relu'))\n",
    "        model.add(BatchNormalization())\n",
    "        \n",
    "        model.add(Conv3D(64, filtersize, padding='same'))\n",
    "        model.add(Activation('relu'))\n",
    "        model.add(BatchNormalization())\n",
    "        \n",
    "        model.add(MaxPooling3D(pool_size=(2, 2, 2)))\n",
    "        model.add(Dropout(dropout))\n",
    "\n",
    "        model.add(Conv3D(128, filtersize, padding='same'))\n",
    "        model.add(Activation('relu'))\n",
    "        model.add(BatchNormalization())\n",
    "        \n",
    "        model.add(Conv3D(128, filtersize, padding='same'))\n",
    "        model.add(Activation('relu'))\n",
    "        model.add(BatchNormalization())\n",
    "        \n",
    "        model.add(MaxPooling3D(pool_size=(2, 2, 2)))\n",
    "        model.add(Dropout(dropout))\n",
    "        \n",
    "        model.add(Flatten())\n",
    "        model.add(Dense(dense_neurons,activation='relu'))\n",
    "        model.add(BatchNormalization())\n",
    "        model.add(Dropout(dropout))\n",
    "\n",
    "        model.add(Dense(dense_neurons,activation='relu'))\n",
    "        model.add(BatchNormalization())\n",
    "        model.add(Dropout(dropout))\n",
    "\n",
    "\n",
    "        model.add(Dense(self.num_classes,activation='softmax'))\n",
    "\n",
    "        optimiser = optimizers.Adam()\n",
    "        model.compile(optimizer=optimiser, loss='categorical_crossentropy', metrics=['categorical_accuracy'])\n",
    "        return model"
   ]
  },
  {
   "cell_type": "code",
   "execution_count": 10,
   "metadata": {
    "colab": {
     "base_uri": "https://localhost:8080/"
    },
    "executionInfo": {
     "elapsed": 1751,
     "status": "ok",
     "timestamp": 1676304131270,
     "user": {
      "displayName": "Pravin Kumar",
      "userId": "02905340823542035095"
     },
     "user_tz": -330
    },
    "id": "KFpYsZu68Tlo",
    "outputId": "30b93403-92e7-49c2-fc39-9bc3f362128d"
   },
   "outputs": [
    {
     "name": "stdout",
     "output_type": "stream",
     "text": [
      "Model: \"sequential\"\n",
      "_________________________________________________________________\n",
      "Layer (type)                 Output Shape              Param #   \n",
      "=================================================================\n",
      "conv3d (Conv3D)              (None, 16, 120, 120, 16)  1312      \n",
      "_________________________________________________________________\n",
      "activation (Activation)      (None, 16, 120, 120, 16)  0         \n",
      "_________________________________________________________________\n",
      "batch_normalization (BatchNo (None, 16, 120, 120, 16)  64        \n",
      "_________________________________________________________________\n",
      "conv3d_1 (Conv3D)            (None, 16, 120, 120, 16)  6928      \n",
      "_________________________________________________________________\n",
      "activation_1 (Activation)    (None, 16, 120, 120, 16)  0         \n",
      "_________________________________________________________________\n",
      "batch_normalization_1 (Batch (None, 16, 120, 120, 16)  64        \n",
      "_________________________________________________________________\n",
      "max_pooling3d (MaxPooling3D) (None, 8, 60, 60, 16)     0         \n",
      "_________________________________________________________________\n",
      "dropout (Dropout)            (None, 8, 60, 60, 16)     0         \n",
      "_________________________________________________________________\n",
      "conv3d_2 (Conv3D)            (None, 8, 60, 60, 32)     13856     \n",
      "_________________________________________________________________\n",
      "activation_2 (Activation)    (None, 8, 60, 60, 32)     0         \n",
      "_________________________________________________________________\n",
      "batch_normalization_2 (Batch (None, 8, 60, 60, 32)     128       \n",
      "_________________________________________________________________\n",
      "conv3d_3 (Conv3D)            (None, 8, 60, 60, 32)     27680     \n",
      "_________________________________________________________________\n",
      "activation_3 (Activation)    (None, 8, 60, 60, 32)     0         \n",
      "_________________________________________________________________\n",
      "batch_normalization_3 (Batch (None, 8, 60, 60, 32)     128       \n",
      "_________________________________________________________________\n",
      "max_pooling3d_1 (MaxPooling3 (None, 4, 30, 30, 32)     0         \n",
      "_________________________________________________________________\n",
      "dropout_1 (Dropout)          (None, 4, 30, 30, 32)     0         \n",
      "_________________________________________________________________\n",
      "conv3d_4 (Conv3D)            (None, 4, 30, 30, 64)     55360     \n",
      "_________________________________________________________________\n",
      "activation_4 (Activation)    (None, 4, 30, 30, 64)     0         \n",
      "_________________________________________________________________\n",
      "batch_normalization_4 (Batch (None, 4, 30, 30, 64)     256       \n",
      "_________________________________________________________________\n",
      "conv3d_5 (Conv3D)            (None, 4, 30, 30, 64)     110656    \n",
      "_________________________________________________________________\n",
      "activation_5 (Activation)    (None, 4, 30, 30, 64)     0         \n",
      "_________________________________________________________________\n",
      "batch_normalization_5 (Batch (None, 4, 30, 30, 64)     256       \n",
      "_________________________________________________________________\n",
      "max_pooling3d_2 (MaxPooling3 (None, 2, 15, 15, 64)     0         \n",
      "_________________________________________________________________\n",
      "dropout_2 (Dropout)          (None, 2, 15, 15, 64)     0         \n",
      "_________________________________________________________________\n",
      "conv3d_6 (Conv3D)            (None, 2, 15, 15, 128)    221312    \n",
      "_________________________________________________________________\n",
      "activation_6 (Activation)    (None, 2, 15, 15, 128)    0         \n",
      "_________________________________________________________________\n",
      "batch_normalization_6 (Batch (None, 2, 15, 15, 128)    512       \n",
      "_________________________________________________________________\n",
      "conv3d_7 (Conv3D)            (None, 2, 15, 15, 128)    442496    \n",
      "_________________________________________________________________\n",
      "activation_7 (Activation)    (None, 2, 15, 15, 128)    0         \n",
      "_________________________________________________________________\n",
      "batch_normalization_7 (Batch (None, 2, 15, 15, 128)    512       \n",
      "_________________________________________________________________\n",
      "max_pooling3d_3 (MaxPooling3 (None, 1, 7, 7, 128)      0         \n",
      "_________________________________________________________________\n",
      "dropout_3 (Dropout)          (None, 1, 7, 7, 128)      0         \n",
      "_________________________________________________________________\n",
      "flatten (Flatten)            (None, 6272)              0         \n",
      "_________________________________________________________________\n",
      "dense (Dense)                (None, 256)               1605888   \n",
      "_________________________________________________________________\n",
      "batch_normalization_8 (Batch (None, 256)               1024      \n",
      "_________________________________________________________________\n",
      "dropout_4 (Dropout)          (None, 256)               0         \n",
      "_________________________________________________________________\n",
      "dense_1 (Dense)              (None, 256)               65792     \n",
      "_________________________________________________________________\n",
      "batch_normalization_9 (Batch (None, 256)               1024      \n",
      "_________________________________________________________________\n",
      "dropout_5 (Dropout)          (None, 256)               0         \n",
      "_________________________________________________________________\n",
      "dense_2 (Dense)              (None, 5)                 1285      \n",
      "=================================================================\n",
      "Total params: 2,556,533\n",
      "Trainable params: 2,554,549\n",
      "Non-trainable params: 1,984\n",
      "_________________________________________________________________\n"
     ]
    }
   ],
   "source": [
    "conv_3d5=ModelConv3D5()\n",
    "conv_3d5.initialize_path(project_folder)\n",
    "conv_3d5.initialize_image_properties(image_height=120,image_width=120)\n",
    "conv_3d5.initialize_hyperparams(frames_to_sample=16,batch_size=20,num_epochs=15)\n",
    "conv_3d5_model=conv_3d5.define_model(filtersize=(3,3,3),dense_neurons=256,dropout=0.25)\n",
    "conv_3d5_model.summary()"
   ]
  },
  {
   "cell_type": "code",
   "execution_count": 11,
   "metadata": {
    "colab": {
     "base_uri": "https://localhost:8080/",
     "height": 183
    },
    "executionInfo": {
     "elapsed": 5,
     "status": "error",
     "timestamp": 1676304179359,
     "user": {
      "displayName": "Pravin Kumar",
      "userId": "02905340823542035095"
     },
     "user_tz": -330
    },
    "id": "BhvzNhtm8Tlo",
    "outputId": "3bed4c5c-a1d8-461c-9160-9cb04fcdc522"
   },
   "outputs": [
    {
     "name": "stdout",
     "output_type": "stream",
     "text": [
      "Total Params: 2556533\n",
      "WARNING:tensorflow:`period` argument is deprecated. Please use `save_freq` to specify the frequency in number of batches seen.\n",
      "Epoch 1/15\n",
      "34/34 [==============================] - 1602s 47s/step - loss: 1.8492 - categorical_accuracy: 0.3362 - val_loss: 1.9738 - val_categorical_accuracy: 0.2100\n",
      "\n",
      "Epoch 00001: val_loss improved from inf to 1.97384, saving model to model_init_2023-02-1413_37_39.799769/model-00001-1.65787-0.39819-1.97384-0.21000.h5\n",
      "Epoch 2/15\n",
      "34/34 [==============================] - 1627s 48s/step - loss: 1.3198 - categorical_accuracy: 0.4947 - val_loss: 2.7170 - val_categorical_accuracy: 0.2300\n",
      "\n",
      "Epoch 00002: val_loss did not improve from 1.97384\n",
      "Epoch 3/15\n",
      "34/34 [==============================] - 1584s 47s/step - loss: 1.1012 - categorical_accuracy: 0.5948 - val_loss: 4.9851 - val_categorical_accuracy: 0.1700\n",
      "\n",
      "Epoch 00003: val_loss did not improve from 1.97384\n",
      "Epoch 4/15\n",
      "34/34 [==============================] - 1566s 46s/step - loss: 1.0323 - categorical_accuracy: 0.5849 - val_loss: 5.6243 - val_categorical_accuracy: 0.2300\n",
      "\n",
      "Epoch 00004: val_loss did not improve from 1.97384\n",
      "Epoch 5/15\n",
      "34/34 [==============================] - 1557s 46s/step - loss: 1.0150 - categorical_accuracy: 0.6054 - val_loss: 5.1857 - val_categorical_accuracy: 0.1900\n",
      "\n",
      "Epoch 00005: val_loss did not improve from 1.97384\n",
      "\n",
      "Epoch 00005: ReduceLROnPlateau reducing learning rate to 0.00020000000949949026.\n",
      "Epoch 6/15\n",
      "34/34 [==============================] - 1565s 46s/step - loss: 0.8276 - categorical_accuracy: 0.6704 - val_loss: 5.1004 - val_categorical_accuracy: 0.2100\n",
      "\n",
      "Epoch 00006: val_loss did not improve from 1.97384\n",
      "Epoch 7/15\n",
      "34/34 [==============================] - 1591s 47s/step - loss: 0.8040 - categorical_accuracy: 0.7097 - val_loss: 5.2523 - val_categorical_accuracy: 0.2200\n",
      "\n",
      "Epoch 00007: val_loss did not improve from 1.97384\n",
      "Epoch 8/15\n",
      "34/34 [==============================] - 2503s 74s/step - loss: 0.6808 - categorical_accuracy: 0.7471 - val_loss: 4.1764 - val_categorical_accuracy: 0.2600\n",
      "\n",
      "Epoch 00008: val_loss did not improve from 1.97384\n",
      "Epoch 9/15\n",
      "34/34 [==============================] - 1644s 48s/step - loss: 0.6645 - categorical_accuracy: 0.7211 - val_loss: 5.7296 - val_categorical_accuracy: 0.1800\n",
      "\n",
      "Epoch 00009: val_loss did not improve from 1.97384\n",
      "\n",
      "Epoch 00009: ReduceLROnPlateau reducing learning rate to 4.0000001899898055e-05.\n",
      "Epoch 10/15\n",
      "34/34 [==============================] - 1711s 50s/step - loss: 0.6013 - categorical_accuracy: 0.7540 - val_loss: 4.9887 - val_categorical_accuracy: 0.2300\n",
      "\n",
      "Epoch 00010: val_loss did not improve from 1.97384\n",
      "Epoch 11/15\n",
      "34/34 [==============================] - 1663s 49s/step - loss: 0.6424 - categorical_accuracy: 0.7637 - val_loss: 4.6002 - val_categorical_accuracy: 0.2100\n",
      "\n",
      "Epoch 00011: val_loss did not improve from 1.97384\n",
      "Epoch 00011: early stopping\n"
     ]
    }
   ],
   "source": [
    "print(\"Total Params:\", conv_3d5_model.count_params())\n",
    "history_model5=conv_3d5.train_model(conv_3d5_model,augment_data=True)"
   ]
  },
  {
   "cell_type": "code",
   "execution_count": 12,
   "metadata": {
    "id": "bhcdpbw58Tlo"
   },
   "outputs": [
    {
     "data": {
      "image/png": "[encoded data removed]",
      "text/plain": [
       "<Figure size 1080x288 with 2 Axes>"
      ]
     },
     "metadata": {
      "needs_background": "light"
     },
     "output_type": "display_data"
    }
   ],
   "source": [
    "visualizeModelHistoryResult(history_model5)"
   ]
  },
  {
   "cell_type": "markdown",
   "metadata": {
    "collapsed": true,
    "id": "Ea32YS4E8Tlo"
   },
   "source": [
    " **Ohh! Overfitting again!!**\n",
    " \n",
    "- Adding dropouts has further reduced validation accuracy as the model doesn't seem to generalise well.\n",
    "- All the experimental models above have more than 1 million parameters. \n",
    "- We can try to reduce the model size to create & train low memory foot print model and see the better performance**"
   ]
  },
  {
   "cell_type": "markdown",
   "metadata": {
    "id": "rC7hbWoo8Tls"
   },
   "source": [
    "## Experiment Number 6 : CNN-LSTM Model"
   ]
  },
  {
   "cell_type": "code",
   "execution_count": 13,
   "metadata": {
    "id": "QG5VvqIH8Tls"
   },
   "outputs": [],
   "source": [
    "class RNNCNN1(ModelBuilder):\n",
    "    \n",
    "    def define_model(self,lstm_cells=64,dense_neurons=64,dropout=0.25):\n",
    "\n",
    "        model = Sequential()\n",
    "\n",
    "        model.add(TimeDistributed(Conv2D(16, (3, 3) , padding='same', activation='relu'),\n",
    "                                  input_shape=(self.frames_to_sample,self.image_height,self.image_width,self.channels)))\n",
    "        model.add(TimeDistributed(BatchNormalization()))\n",
    "        model.add(TimeDistributed(MaxPooling2D((2, 2))))\n",
    "        \n",
    "        model.add(TimeDistributed(Conv2D(32, (3, 3) , padding='same', activation='relu')))\n",
    "        model.add(TimeDistributed(BatchNormalization()))\n",
    "        model.add(TimeDistributed(MaxPooling2D((2, 2))))\n",
    "        \n",
    "        model.add(TimeDistributed(Conv2D(64, (3, 3) , padding='same', activation='relu')))\n",
    "        model.add(TimeDistributed(BatchNormalization()))\n",
    "        model.add(TimeDistributed(MaxPooling2D((2, 2))))\n",
    "        \n",
    "        model.add(TimeDistributed(Conv2D(128, (3, 3) , padding='same', activation='relu')))\n",
    "        model.add(TimeDistributed(BatchNormalization()))\n",
    "        model.add(TimeDistributed(MaxPooling2D((2, 2))))\n",
    "        \n",
    "        model.add(TimeDistributed(Conv2D(256, (3, 3) , padding='same', activation='relu')))\n",
    "        model.add(TimeDistributed(BatchNormalization()))\n",
    "        model.add(TimeDistributed(MaxPooling2D((2, 2))))\n",
    "        \n",
    "        #model.add(TimeDistributed(Conv2D(512, (2, 2) , padding='valid', activation='relu')))\n",
    "       # model.add(TimeDistributed(BatchNormalization()))\n",
    "       # model.add(TimeDistributed(MaxPooling2D((2, 2))))\n",
    "\n",
    "        model.add(TimeDistributed(Flatten()))\n",
    "\n",
    "\n",
    "        model.add(LSTM(lstm_cells))\n",
    "        model.add(Dropout(dropout))\n",
    "        \n",
    "        model.add(Dense(dense_neurons,activation='relu'))\n",
    "        model.add(Dropout(dropout))\n",
    "        \n",
    "        model.add(Dense(self.num_classes, activation='softmax'))\n",
    "        optimiser = optimizers.Adam()\n",
    "        model.compile(optimizer=optimiser, loss='categorical_crossentropy', metrics=['categorical_accuracy'])\n",
    "        return model"
   ]
  },
  {
   "cell_type": "code",
   "execution_count": 14,
   "metadata": {
    "id": "AY-JDjuD8Tls"
   },
   "outputs": [
    {
     "name": "stdout",
     "output_type": "stream",
     "text": [
      "Model: \"sequential_1\"\n",
      "_________________________________________________________________\n",
      "Layer (type)                 Output Shape              Param #   \n",
      "=================================================================\n",
      "time_distributed (TimeDistri (None, 18, 120, 120, 16)  448       \n",
      "_________________________________________________________________\n",
      "time_distributed_1 (TimeDist (None, 18, 120, 120, 16)  64        \n",
      "_________________________________________________________________\n",
      "time_distributed_2 (TimeDist (None, 18, 60, 60, 16)    0         \n",
      "_________________________________________________________________\n",
      "time_distributed_3 (TimeDist (None, 18, 60, 60, 32)    4640      \n",
      "_________________________________________________________________\n",
      "time_distributed_4 (TimeDist (None, 18, 60, 60, 32)    128       \n",
      "_________________________________________________________________\n",
      "time_distributed_5 (TimeDist (None, 18, 30, 30, 32)    0         \n",
      "_________________________________________________________________\n",
      "time_distributed_6 (TimeDist (None, 18, 30, 30, 64)    18496     \n",
      "_________________________________________________________________\n",
      "time_distributed_7 (TimeDist (None, 18, 30, 30, 64)    256       \n",
      "_________________________________________________________________\n",
      "time_distributed_8 (TimeDist (None, 18, 15, 15, 64)    0         \n",
      "_________________________________________________________________\n",
      "time_distributed_9 (TimeDist (None, 18, 15, 15, 128)   73856     \n",
      "_________________________________________________________________\n",
      "time_distributed_10 (TimeDis (None, 18, 15, 15, 128)   512       \n",
      "_________________________________________________________________\n",
      "time_distributed_11 (TimeDis (None, 18, 7, 7, 128)     0         \n",
      "_________________________________________________________________\n",
      "time_distributed_12 (TimeDis (None, 18, 7, 7, 256)     295168    \n",
      "_________________________________________________________________\n",
      "time_distributed_13 (TimeDis (None, 18, 7, 7, 256)     1024      \n",
      "_________________________________________________________________\n",
      "time_distributed_14 (TimeDis (None, 18, 3, 3, 256)     0         \n",
      "_________________________________________________________________\n",
      "time_distributed_15 (TimeDis (None, 18, 2304)          0         \n",
      "_________________________________________________________________\n",
      "lstm (LSTM)                  (None, 128)               1245696   \n",
      "_________________________________________________________________\n",
      "dropout_6 (Dropout)          (None, 128)               0         \n",
      "_________________________________________________________________\n",
      "dense_3 (Dense)              (None, 128)               16512     \n",
      "_________________________________________________________________\n",
      "dropout_7 (Dropout)          (None, 128)               0         \n",
      "_________________________________________________________________\n",
      "dense_4 (Dense)              (None, 5)                 645       \n",
      "=================================================================\n",
      "Total params: 1,657,445\n",
      "Trainable params: 1,656,453\n",
      "Non-trainable params: 992\n",
      "_________________________________________________________________\n"
     ]
    }
   ],
   "source": [
    "rnn_cnn1=RNNCNN1()\n",
    "rnn_cnn1.initialize_path(project_folder)\n",
    "rnn_cnn1.initialize_image_properties(image_height=120,image_width=120)\n",
    "rnn_cnn1.initialize_hyperparams(frames_to_sample=18,batch_size=20,num_epochs=20)\n",
    "rnn_cnn1_model=rnn_cnn1.define_model(lstm_cells=128,dense_neurons=128,dropout=0.25)\n",
    "rnn_cnn1_model.summary()"
   ]
  },
  {
   "cell_type": "code",
   "execution_count": 15,
   "metadata": {
    "id": "y7zZphLA8Tlt"
   },
   "outputs": [
    {
     "name": "stdout",
     "output_type": "stream",
     "text": [
      "Total Params: 1657445\n",
      "WARNING:tensorflow:`period` argument is deprecated. Please use `save_freq` to specify the frequency in number of batches seen.\n",
      "Epoch 1/20\n",
      "34/34 [==============================] - 182s 5s/step - loss: 1.5741 - categorical_accuracy: 0.2776 - val_loss: 1.7795 - val_categorical_accuracy: 0.1700\n",
      "\n",
      "Epoch 00001: val_loss improved from inf to 1.77954, saving model to model_init_2023-02-1418_48_31.204017/model-00001-1.47005-0.34087-1.77954-0.17000.h5\n",
      "Epoch 2/20\n",
      "34/34 [==============================] - 176s 5s/step - loss: 1.1743 - categorical_accuracy: 0.5354 - val_loss: 1.7771 - val_categorical_accuracy: 0.2000\n",
      "\n",
      "Epoch 00002: val_loss improved from 1.77954 to 1.77707, saving model to model_init_2023-02-1418_48_31.204017/model-00002-1.17133-0.51282-1.77707-0.20000.h5\n",
      "Epoch 3/20\n",
      "34/34 [==============================] - 177s 5s/step - loss: 1.0299 - categorical_accuracy: 0.5908 - val_loss: 2.0153 - val_categorical_accuracy: 0.2700\n",
      "\n",
      "Epoch 00003: val_loss did not improve from 1.77707\n",
      "Epoch 4/20\n",
      "34/34 [==============================] - 180s 5s/step - loss: 0.9180 - categorical_accuracy: 0.6505 - val_loss: 2.1809 - val_categorical_accuracy: 0.2200\n",
      "\n",
      "Epoch 00004: val_loss did not improve from 1.77707\n",
      "Epoch 5/20\n",
      "34/34 [==============================] - 189s 6s/step - loss: 0.8037 - categorical_accuracy: 0.6914 - val_loss: 2.0581 - val_categorical_accuracy: 0.1800\n",
      "\n",
      "Epoch 00005: val_loss did not improve from 1.77707\n",
      "Epoch 6/20\n",
      "34/34 [==============================] - 201s 6s/step - loss: 0.7677 - categorical_accuracy: 0.6951 - val_loss: 2.0316 - val_categorical_accuracy: 0.2500\n",
      "\n",
      "Epoch 00006: val_loss did not improve from 1.77707\n",
      "\n",
      "Epoch 00006: ReduceLROnPlateau reducing learning rate to 0.00020000000949949026.\n",
      "Epoch 7/20\n",
      "34/34 [==============================] - 181s 5s/step - loss: 0.5720 - categorical_accuracy: 0.8070 - val_loss: 1.9498 - val_categorical_accuracy: 0.3000\n",
      "\n",
      "Epoch 00007: val_loss did not improve from 1.77707\n",
      "Epoch 8/20\n",
      "34/34 [==============================] - 190s 6s/step - loss: 0.4667 - categorical_accuracy: 0.8399 - val_loss: 1.8560 - val_categorical_accuracy: 0.3500\n",
      "\n",
      "Epoch 00008: val_loss did not improve from 1.77707\n",
      "Epoch 9/20\n",
      "34/34 [==============================] - 187s 6s/step - loss: 0.4333 - categorical_accuracy: 0.8521 - val_loss: 1.7339 - val_categorical_accuracy: 0.3100\n",
      "\n",
      "Epoch 00009: val_loss improved from 1.77707 to 1.73394, saving model to model_init_2023-02-1418_48_31.204017/model-00009-0.41873-0.85671-1.73394-0.31000.h5\n",
      "Epoch 10/20\n",
      "34/34 [==============================] - 177s 5s/step - loss: 0.3847 - categorical_accuracy: 0.8706 - val_loss: 1.5256 - val_categorical_accuracy: 0.4500\n",
      "\n",
      "Epoch 00010: val_loss improved from 1.73394 to 1.52561, saving model to model_init_2023-02-1418_48_31.204017/model-00010-0.36000-0.88311-1.52561-0.45000.h5\n",
      "Epoch 11/20\n",
      "34/34 [==============================] - 176s 5s/step - loss: 0.3232 - categorical_accuracy: 0.9034 - val_loss: 1.5201 - val_categorical_accuracy: 0.4300\n",
      "\n",
      "Epoch 00011: val_loss improved from 1.52561 to 1.52007, saving model to model_init_2023-02-1418_48_31.204017/model-00011-0.31771-0.90724-1.52007-0.43000.h5\n",
      "Epoch 12/20\n",
      "34/34 [==============================] - 181s 5s/step - loss: 0.2687 - categorical_accuracy: 0.9141 - val_loss: 1.4971 - val_categorical_accuracy: 0.4500\n",
      "\n",
      "Epoch 00012: val_loss improved from 1.52007 to 1.49712, saving model to model_init_2023-02-1418_48_31.204017/model-00012-0.27179-0.91176-1.49712-0.45000.h5\n",
      "Epoch 13/20\n",
      "34/34 [==============================] - 183s 5s/step - loss: 0.2466 - categorical_accuracy: 0.9270 - val_loss: 1.2711 - val_categorical_accuracy: 0.5200\n",
      "\n",
      "Epoch 00013: val_loss improved from 1.49712 to 1.27110, saving model to model_init_2023-02-1418_48_31.204017/model-00013-0.24950-0.92534-1.27110-0.52000.h5\n",
      "Epoch 14/20\n",
      "34/34 [==============================] - 183s 5s/step - loss: 0.2326 - categorical_accuracy: 0.9147 - val_loss: 1.1751 - val_categorical_accuracy: 0.5700\n",
      "\n",
      "Epoch 00014: val_loss improved from 1.27110 to 1.17511, saving model to model_init_2023-02-1418_48_31.204017/model-00014-0.22355-0.92383-1.17511-0.57000.h5\n",
      "Epoch 15/20\n",
      "34/34 [==============================] - 177s 5s/step - loss: 0.2024 - categorical_accuracy: 0.9410 - val_loss: 1.0038 - val_categorical_accuracy: 0.6800\n",
      "\n",
      "Epoch 00015: val_loss improved from 1.17511 to 1.00378, saving model to model_init_2023-02-1418_48_31.204017/model-00015-0.20631-0.94118-1.00378-0.68000.h5\n",
      "Epoch 16/20\n",
      "34/34 [==============================] - 177s 5s/step - loss: 0.1938 - categorical_accuracy: 0.9349 - val_loss: 0.9563 - val_categorical_accuracy: 0.6900\n",
      "\n",
      "Epoch 00016: val_loss improved from 1.00378 to 0.95626, saving model to model_init_2023-02-1418_48_31.204017/model-00016-0.18538-0.94495-0.95626-0.69000.h5\n",
      "Epoch 17/20\n",
      "34/34 [==============================] - 176s 5s/step - loss: 0.1575 - categorical_accuracy: 0.9452 - val_loss: 1.0307 - val_categorical_accuracy: 0.6700\n",
      "\n",
      "Epoch 00017: val_loss did not improve from 0.95626\n",
      "Epoch 18/20\n",
      "34/34 [==============================] - 178s 5s/step - loss: 0.1101 - categorical_accuracy: 0.9733 - val_loss: 1.1040 - val_categorical_accuracy: 0.6900\n",
      "\n",
      "Epoch 00018: val_loss did not improve from 0.95626\n",
      "Epoch 19/20\n",
      "34/34 [==============================] - 180s 5s/step - loss: 0.1245 - categorical_accuracy: 0.9696 - val_loss: 0.7969 - val_categorical_accuracy: 0.7800\n",
      "\n",
      "Epoch 00019: val_loss improved from 0.95626 to 0.79686, saving model to model_init_2023-02-1418_48_31.204017/model-00019-0.11280-0.97210-0.79686-0.78000.h5\n",
      "Epoch 20/20\n",
      "34/34 [==============================] - 202s 6s/step - loss: 0.1532 - categorical_accuracy: 0.9604 - val_loss: 0.6408 - val_categorical_accuracy: 0.8300\n",
      "\n",
      "Epoch 00020: val_loss improved from 0.79686 to 0.64083, saving model to model_init_2023-02-1418_48_31.204017/model-00020-0.14990-0.96003-0.64083-0.83000.h5\n"
     ]
    }
   ],
   "source": [
    "print(\"Total Params:\", rnn_cnn1_model.count_params())\n",
    "history_model8=rnn_cnn1.train_model(rnn_cnn1_model,augment_data=True)"
   ]
  },
  {
   "cell_type": "code",
   "execution_count": 16,
   "metadata": {
    "id": "b_yB9LTU8Tlt"
   },
   "outputs": [
    {
     "data": {
      "image/png": "[encoded data removed]",
      "text/plain": [
       "<Figure size 1080x288 with 2 Axes>"
      ]
     },
     "metadata": {
      "needs_background": "light"
     },
     "output_type": "display_data"
    }
   ],
   "source": [
    "visualizeModelHistoryResult(history_model8)"
   ]
  },
  {
   "cell_type": "markdown",
   "metadata": {
    "collapsed": true,
    "id": "NrC4Lymx8Tlt"
   },
   "source": [
    "**For CNN LSTM model we get a best validation accuracy of 83%**\n",
    "\n",
    "As we see more cases of overfitting, lets augment the data with ***slight rotation*** as well and run the same set of models again"
   ]
  },
  {
   "cell_type": "markdown",
   "metadata": {
    "id": "-SHHKYIs8Tlt"
   },
   "source": [
    "## Let's apply some data augmentation & check the model performance."
   ]
  },
  {
   "cell_type": "code",
   "execution_count": 43,
   "metadata": {
    "id": "XrSKaS-h8Tlt"
   },
   "outputs": [],
   "source": [
    "class ModelBuilderMoreAugmentation(metaclass= abc.ABCMeta):\n",
    "    \n",
    "    def initialize_path(self,project_folder):\n",
    "        self.train_doc = np.random.permutation(open(project_folder + '/' + 'train.csv').readlines())\n",
    "        self.val_doc = np.random.permutation(open(project_folder + '/' + 'val.csv').readlines())\n",
    "        self.train_path = project_folder + '/' + 'train'\n",
    "        self.val_path =  project_folder + '/' + 'val'\n",
    "        self.num_train_sequences = len(self.train_doc)\n",
    "        self.num_val_sequences = len(self.val_doc)\n",
    "        \n",
    "    def initialize_image_properties(self,image_height=100,image_width=100):\n",
    "        self.image_height=image_height\n",
    "        self.image_width=image_width\n",
    "        self.channels=3\n",
    "        self.num_classes=5\n",
    "        self.total_frames=30\n",
    "          \n",
    "    def initialize_hyperparams(self,frames_to_sample=30,batch_size=20,num_epochs=20):\n",
    "        self.frames_to_sample=frames_to_sample\n",
    "        self.batch_size=batch_size\n",
    "        self.num_epochs=num_epochs\n",
    "        \n",
    "        \n",
    "    def generator(self,source_path, folder_list, augment=False):\n",
    "        img_idx = np.round(np.linspace(0,self.total_frames-1,self.frames_to_sample)).astype(int)\n",
    "        batch_size=self.batch_size\n",
    "        while True:\n",
    "            t = np.random.permutation(folder_list)\n",
    "            num_batches = len(t)//batch_size\n",
    "        \n",
    "            for batch in range(num_batches): \n",
    "                batch_data, batch_labels= self.one_batch_data(source_path,t,batch,batch_size,img_idx,augment)\n",
    "                yield batch_data, batch_labels \n",
    "\n",
    "            remaining_seq=len(t)%batch_size\n",
    "        \n",
    "            if (remaining_seq != 0):\n",
    "                batch_data, batch_labels= self.one_batch_data(source_path,t,num_batches,batch_size,img_idx,augment,remaining_seq)\n",
    "                yield batch_data, batch_labels \n",
    "    \n",
    "    \n",
    "    def one_batch_data(self,source_path,t,batch,batch_size,img_idx,augment,remaining_seq=0):\n",
    "    \n",
    "        seq_len = remaining_seq if remaining_seq else batch_size\n",
    "    \n",
    "        batch_data = np.zeros((seq_len,len(img_idx),self.image_height,self.image_width,self.channels)) \n",
    "        batch_labels = np.zeros((seq_len,self.num_classes)) \n",
    "    \n",
    "        if (augment): batch_data_aug = np.zeros((seq_len,len(img_idx),self.image_height,self.image_width,self.channels))\n",
    "\n",
    "        \n",
    "        for folder in range(seq_len): \n",
    "            imgs = os.listdir(source_path+'/'+ t[folder + (batch*batch_size)].split(';')[0]) \n",
    "            for idx,item in enumerate(img_idx): \n",
    "                \n",
    "                image = cv2.imread(source_path+'/'+ t[folder + (batch*batch_size)].strip().split(';')[0]+'/'+imgs[item], cv2.IMREAD_UNCHANGED).astype(np.float32)\n",
    "\n",
    "                \n",
    "                image_resized=cv2.resize(image,(self.image_height,self.image_width))\n",
    "                \n",
    "#                 print(\"Size of original image: {}\".format(image.shape))\n",
    "#                 print(\"Size of new resized image: {}\".format(image_resized.shape))\n",
    "            \n",
    "\n",
    "                batch_data[folder,idx,:,:,0] = (image_resized[:,:,0])/255\n",
    "                batch_data[folder,idx,:,:,1] = (image_resized[:,:,1])/255\n",
    "                batch_data[folder,idx,:,:,2] = (image_resized[:,:,2])/255\n",
    "            \n",
    "                if (augment):\n",
    "                    shifted = cv2.warpAffine(image, \n",
    "                                             np.float32([[1, 0, np.random.randint(-30,30)],[0, 1, np.random.randint(-30,30)]]), \n",
    "                                            (image.shape[1], image.shape[0]))\n",
    "                    \n",
    "                    gray = cv2.cvtColor(shifted,cv2.COLOR_BGR2GRAY)\n",
    "\n",
    "                    x0, y0 = np.argwhere(gray > 0).min(axis=0)\n",
    "                    x1, y1 = np.argwhere(gray > 0).max(axis=0) \n",
    "                    \n",
    "                    cropped=shifted[x0:x1,y0:y1,:]\n",
    "                    \n",
    "                    \n",
    "                    image_resized=cv2.resize(cropped,(self.image_height,self.image_width))\n",
    "                    \n",
    "                    M = cv2.getRotationMatrix2D((self.image_width//2,self.image_height//2),\n",
    "                                                np.random.randint(-10,10), 1.0)\n",
    "                    rotated = cv2.warpAffine(image_resized, M, (self.image_width, self.image_height))\n",
    "                    \n",
    "                    #shifted = cv2.warpAffine(image_resized, \n",
    "                    #                        np.float32([[1, 0, np.random.randint(-3,3)],[0, 1, np.random.randint(-3,3)]]), \n",
    "                    #                        (image_resized.shape[1], image_resized.shape[0]))\n",
    "            \n",
    "                    batch_data_aug[folder,idx,:,:,0] = (rotated[:,:,0])/255\n",
    "                    batch_data_aug[folder,idx,:,:,1] = (rotated[:,:,1])/255\n",
    "                    batch_data_aug[folder,idx,:,:,2] = (rotated[:,:,2])/255\n",
    "                \n",
    "            \n",
    "            batch_labels[folder, int(t[folder + (batch*batch_size)].strip().split(';')[2])] = 1\n",
    "            \n",
    "    \n",
    "        if (augment):\n",
    "            batch_data=np.concatenate([batch_data,batch_data_aug])\n",
    "            batch_labels=np.concatenate([batch_labels,batch_labels])\n",
    "\n",
    "        \n",
    "        return(batch_data,batch_labels)\n",
    "    \n",
    "    \n",
    "    def train_model(self, model, augment_data=False):\n",
    "        train_generator = self.generator(self.train_path, self.train_doc,augment=augment_data)\n",
    "        val_generator = self.generator(self.val_path, self.val_doc)\n",
    "\n",
    "        model_name = 'model_init' + '_' + str(datetime.datetime.now()).replace(' ','').replace(':','_') + '/'\n",
    "    \n",
    "        if not os.path.exists(model_name):\n",
    "            os.mkdir(model_name)\n",
    "        \n",
    "        filepath = model_name + 'model-{epoch:05d}-{loss:.5f}-{categorical_accuracy:.5f}-{val_loss:.5f}-{val_categorical_accuracy:.5f}.h5'\n",
    "\n",
    "        checkpoint = ModelCheckpoint(filepath, monitor='val_loss', verbose=1, save_best_only=False, save_weights_only=False, mode='auto', period=1)\n",
    "        LR = ReduceLROnPlateau(monitor='val_loss', factor=0.2, verbose=1, patience=4)\n",
    "        callbacks_list = [checkpoint, LR]\n",
    "\n",
    "        if (self.num_train_sequences%self.batch_size) == 0:\n",
    "            steps_per_epoch = int(self.num_train_sequences/self.batch_size)\n",
    "        else:\n",
    "            steps_per_epoch = (self.num_train_sequences//self.batch_size) + 1\n",
    "\n",
    "        if (self.num_val_sequences%self.batch_size) == 0:\n",
    "            validation_steps = int(self.num_val_sequences/self.batch_size)\n",
    "        else:\n",
    "            validation_steps = (self.num_val_sequences//self.batch_size) + 1\n",
    "    \n",
    "        history=model.fit_generator(train_generator, steps_per_epoch=steps_per_epoch, epochs=self.num_epochs, verbose=1, \n",
    "                            callbacks=callbacks_list, validation_data=val_generator, \n",
    "                            validation_steps=validation_steps, class_weight=None, workers=1, initial_epoch=0)\n",
    "        return history\n",
    "\n",
    "        \n",
    "    @abc.abstractmethod\n",
    "    def define_model(self):\n",
    "        pass\n",
    "    \n",
    "    "
   ]
  },
  {
   "cell_type": "code",
   "execution_count": 18,
   "metadata": {
    "id": "XLTSYIP28Tlu"
   },
   "outputs": [
    {
     "data": {
      "text/plain": [
       "<matplotlib.image.AxesImage at 0x7fae22a2da00>"
      ]
     },
     "execution_count": 18,
     "metadata": {},
     "output_type": "execute_result"
    },
    {
     "data": {
      "image/png": "[encoded data removed]",
      "text/plain": [
       "<Figure size 432x288 with 2 Axes>"
      ]
     },
     "metadata": {
      "needs_background": "light"
     },
     "output_type": "display_data"
    }
   ],
   "source": [
    "class Test(ModelBuilderMoreAugmentation):\n",
    "    def define_model(self):\n",
    "        pass\n",
    "\n",
    "test_generator=Test()\n",
    "test_generator.initialize_path(project_folder)\n",
    "test_generator.initialize_image_properties(image_height=160,image_width=160)\n",
    "test_generator.initialize_hyperparams(frames_to_sample=30,batch_size=3,num_epochs=1)\n",
    "\n",
    "g=test_generator.generator(test_generator.val_path,test_generator.val_doc,augment=True)\n",
    "batch_data, batch_labels=next(g)\n",
    "fig, axes = plt.subplots(nrows=1, ncols=2)\n",
    "axes[0].imshow(batch_data[0,29,:,:,:])   \n",
    "axes[1].imshow(batch_data[3,29,:,:,:])   "
   ]
  },
  {
   "cell_type": "markdown",
   "metadata": {
    "id": "bIoJtKfw8Tlx"
   },
   "source": [
    "## Experiment Number 7 : Conv3D with Data Augmentation\n"
   ]
  },
  {
   "cell_type": "code",
   "execution_count": 19,
   "metadata": {
    "id": "WJ7cHF-18Tly"
   },
   "outputs": [],
   "source": [
    "class ModelConv3D12(ModelBuilderMoreAugmentation):\n",
    "    \n",
    "    def define_model(self,filtersize=(3,3,3),dense_neurons=64,dropout=0.25):\n",
    "\n",
    "        model = Sequential()\n",
    "        model.add(Conv3D(16, filtersize, padding='same',\n",
    "                 input_shape=(self.frames_to_sample,self.image_height,self.image_width,self.channels)))\n",
    "        model.add(Activation('relu'))\n",
    "        model.add(BatchNormalization())\n",
    "        \n",
    "        model.add(Conv3D(16, filtersize, padding='same',\n",
    "                 input_shape=(self.frames_to_sample,self.image_height,self.image_width,self.channels)))\n",
    "        model.add(Activation('relu'))\n",
    "        model.add(BatchNormalization())\n",
    "        \n",
    "        model.add(MaxPooling3D(pool_size=(2, 2, 2)))\n",
    "        model.add(Dropout(dropout))\n",
    "\n",
    "        model.add(Conv3D(32, filtersize, padding='same'))\n",
    "        model.add(Activation('relu'))\n",
    "        model.add(BatchNormalization())\n",
    "        \n",
    "        model.add(Conv3D(32, filtersize, padding='same'))\n",
    "        model.add(Activation('relu'))\n",
    "        model.add(BatchNormalization())\n",
    "        \n",
    "        model.add(MaxPooling3D(pool_size=(2, 2, 2)))\n",
    "        model.add(Dropout(dropout))\n",
    "\n",
    "        model.add(Conv3D(64, filtersize, padding='same'))\n",
    "        model.add(Activation('relu'))\n",
    "        model.add(BatchNormalization())\n",
    "        \n",
    "        model.add(Conv3D(64, filtersize, padding='same'))\n",
    "        model.add(Activation('relu'))\n",
    "        model.add(BatchNormalization())\n",
    "        \n",
    "        model.add(MaxPooling3D(pool_size=(2, 2, 2)))\n",
    "        model.add(Dropout(dropout))\n",
    "\n",
    "        model.add(Conv3D(128, filtersize, padding='same'))\n",
    "        model.add(Activation('relu'))\n",
    "        model.add(BatchNormalization())\n",
    "        \n",
    "        model.add(Conv3D(128, filtersize, padding='same'))\n",
    "        model.add(Activation('relu'))\n",
    "        model.add(BatchNormalization())\n",
    "        \n",
    "        model.add(MaxPooling3D(pool_size=(2, 2, 2)))\n",
    "        model.add(Dropout(dropout))\n",
    "        \n",
    "        model.add(Flatten())\n",
    "        model.add(Dense(dense_neurons,activation='relu'))\n",
    "        model.add(BatchNormalization())\n",
    "        model.add(Dropout(dropout))\n",
    "\n",
    "        model.add(Dense(dense_neurons,activation='relu'))\n",
    "        model.add(BatchNormalization())\n",
    "        model.add(Dropout(dropout))\n",
    "\n",
    "\n",
    "        model.add(Dense(self.num_classes,activation='softmax'))\n",
    "\n",
    "        optimiser = optimizers.Adam(lr=0.0002)\n",
    "        model.compile(optimizer=optimiser, loss='categorical_crossentropy', metrics=['categorical_accuracy'])\n",
    "        return model"
   ]
  },
  {
   "cell_type": "code",
   "execution_count": 20,
   "metadata": {
    "id": "RzeQMoKW8Tly"
   },
   "outputs": [
    {
     "name": "stdout",
     "output_type": "stream",
     "text": [
      "Model: \"sequential_2\"\n",
      "_________________________________________________________________\n",
      "Layer (type)                 Output Shape              Param #   \n",
      "=================================================================\n",
      "conv3d_8 (Conv3D)            (None, 16, 120, 120, 16)  1312      \n",
      "_________________________________________________________________\n",
      "activation_8 (Activation)    (None, 16, 120, 120, 16)  0         \n",
      "_________________________________________________________________\n",
      "batch_normalization_15 (Batc (None, 16, 120, 120, 16)  64        \n",
      "_________________________________________________________________\n",
      "conv3d_9 (Conv3D)            (None, 16, 120, 120, 16)  6928      \n",
      "_________________________________________________________________\n",
      "activation_9 (Activation)    (None, 16, 120, 120, 16)  0         \n",
      "_________________________________________________________________\n",
      "batch_normalization_16 (Batc (None, 16, 120, 120, 16)  64        \n",
      "_________________________________________________________________\n",
      "max_pooling3d_4 (MaxPooling3 (None, 8, 60, 60, 16)     0         \n",
      "_________________________________________________________________\n",
      "dropout_8 (Dropout)          (None, 8, 60, 60, 16)     0         \n",
      "_________________________________________________________________\n",
      "conv3d_10 (Conv3D)           (None, 8, 60, 60, 32)     13856     \n",
      "_________________________________________________________________\n",
      "activation_10 (Activation)   (None, 8, 60, 60, 32)     0         \n",
      "_________________________________________________________________\n",
      "batch_normalization_17 (Batc (None, 8, 60, 60, 32)     128       \n",
      "_________________________________________________________________\n",
      "conv3d_11 (Conv3D)           (None, 8, 60, 60, 32)     27680     \n",
      "_________________________________________________________________\n",
      "activation_11 (Activation)   (None, 8, 60, 60, 32)     0         \n",
      "_________________________________________________________________\n",
      "batch_normalization_18 (Batc (None, 8, 60, 60, 32)     128       \n",
      "_________________________________________________________________\n",
      "max_pooling3d_5 (MaxPooling3 (None, 4, 30, 30, 32)     0         \n",
      "_________________________________________________________________\n",
      "dropout_9 (Dropout)          (None, 4, 30, 30, 32)     0         \n",
      "_________________________________________________________________\n",
      "conv3d_12 (Conv3D)           (None, 4, 30, 30, 64)     55360     \n",
      "_________________________________________________________________\n",
      "activation_12 (Activation)   (None, 4, 30, 30, 64)     0         \n",
      "_________________________________________________________________\n",
      "batch_normalization_19 (Batc (None, 4, 30, 30, 64)     256       \n",
      "_________________________________________________________________\n",
      "conv3d_13 (Conv3D)           (None, 4, 30, 30, 64)     110656    \n",
      "_________________________________________________________________\n",
      "activation_13 (Activation)   (None, 4, 30, 30, 64)     0         \n",
      "_________________________________________________________________\n",
      "batch_normalization_20 (Batc (None, 4, 30, 30, 64)     256       \n",
      "_________________________________________________________________\n",
      "max_pooling3d_6 (MaxPooling3 (None, 2, 15, 15, 64)     0         \n",
      "_________________________________________________________________\n",
      "dropout_10 (Dropout)         (None, 2, 15, 15, 64)     0         \n",
      "_________________________________________________________________\n",
      "conv3d_14 (Conv3D)           (None, 2, 15, 15, 128)    221312    \n",
      "_________________________________________________________________\n",
      "activation_14 (Activation)   (None, 2, 15, 15, 128)    0         \n",
      "_________________________________________________________________\n",
      "batch_normalization_21 (Batc (None, 2, 15, 15, 128)    512       \n",
      "_________________________________________________________________\n",
      "conv3d_15 (Conv3D)           (None, 2, 15, 15, 128)    442496    \n",
      "_________________________________________________________________\n",
      "activation_15 (Activation)   (None, 2, 15, 15, 128)    0         \n",
      "_________________________________________________________________\n",
      "batch_normalization_22 (Batc (None, 2, 15, 15, 128)    512       \n",
      "_________________________________________________________________\n",
      "max_pooling3d_7 (MaxPooling3 (None, 1, 7, 7, 128)      0         \n",
      "_________________________________________________________________\n",
      "dropout_11 (Dropout)         (None, 1, 7, 7, 128)      0         \n",
      "_________________________________________________________________\n",
      "flatten_2 (Flatten)          (None, 6272)              0         \n",
      "_________________________________________________________________\n",
      "dense_5 (Dense)              (None, 256)               1605888   \n",
      "_________________________________________________________________\n",
      "batch_normalization_23 (Batc (None, 256)               1024      \n",
      "_________________________________________________________________\n",
      "dropout_12 (Dropout)         (None, 256)               0         \n",
      "_________________________________________________________________\n",
      "dense_6 (Dense)              (None, 256)               65792     \n",
      "_________________________________________________________________\n",
      "batch_normalization_24 (Batc (None, 256)               1024      \n",
      "_________________________________________________________________\n",
      "dropout_13 (Dropout)         (None, 256)               0         \n",
      "_________________________________________________________________\n",
      "dense_7 (Dense)              (None, 5)                 1285      \n",
      "=================================================================\n",
      "Total params: 2,556,533\n",
      "Trainable params: 2,554,549\n",
      "Non-trainable params: 1,984\n",
      "_________________________________________________________________\n"
     ]
    }
   ],
   "source": [
    "conv_3d12=ModelConv3D12()\n",
    "conv_3d12.initialize_path(project_folder)\n",
    "conv_3d12.initialize_image_properties(image_height=120,image_width=120)\n",
    "conv_3d12.initialize_hyperparams(frames_to_sample=16,batch_size=20,num_epochs=25)\n",
    "conv_3d12_model=conv_3d12.define_model(filtersize=(3,3,3),dense_neurons=256,dropout=0.25)\n",
    "conv_3d12_model.summary()"
   ]
  },
  {
   "cell_type": "code",
   "execution_count": 21,
   "metadata": {
    "id": "rRMu1rZO8Tly",
    "scrolled": true
   },
   "outputs": [
    {
     "name": "stdout",
     "output_type": "stream",
     "text": [
      "Total Params: 2556533\n",
      "WARNING:tensorflow:`period` argument is deprecated. Please use `save_freq` to specify the frequency in number of batches seen.\n",
      "Epoch 1/25\n",
      "34/34 [==============================] - 1573s 46s/step - loss: 2.1446 - categorical_accuracy: 0.2544 - val_loss: 2.0694 - val_categorical_accuracy: 0.1600\n",
      "\n",
      "Epoch 00001: saving model to model_init_2023-02-1419_50_16.147096/model-00001-1.89167-0.32202-2.06939-0.16000.h5\n",
      "Epoch 2/25\n",
      "34/34 [==============================] - 1556s 46s/step - loss: 1.6132 - categorical_accuracy: 0.4015 - val_loss: 2.7301 - val_categorical_accuracy: 0.1700\n",
      "\n",
      "Epoch 00002: saving model to model_init_2023-02-1419_50_16.147096/model-00002-1.54451-0.42609-2.73012-0.17000.h5\n",
      "Epoch 3/25\n",
      "34/34 [==============================] - 1563s 46s/step - loss: 1.4702 - categorical_accuracy: 0.4443 - val_loss: 4.1723 - val_categorical_accuracy: 0.1600\n",
      "\n",
      "Epoch 00003: saving model to model_init_2023-02-1419_50_16.147096/model-00003-1.40042-0.46908-4.17231-0.16000.h5\n",
      "Epoch 4/25\n",
      "34/34 [==============================] - 1563s 46s/step - loss: 1.3009 - categorical_accuracy: 0.5250 - val_loss: 4.1798 - val_categorical_accuracy: 0.1300\n",
      "\n",
      "Epoch 00004: saving model to model_init_2023-02-1419_50_16.147096/model-00004-1.28482-0.53620-4.17979-0.13000.h5\n",
      "Epoch 5/25\n",
      "34/34 [==============================] - 1568s 46s/step - loss: 1.1748 - categorical_accuracy: 0.5439 - val_loss: 5.1474 - val_categorical_accuracy: 0.1700\n",
      "\n",
      "Epoch 00005: saving model to model_init_2023-02-1419_50_16.147096/model-00005-1.14384-0.55354-5.14737-0.17000.h5\n",
      "\n",
      "Epoch 00005: ReduceLROnPlateau reducing learning rate to 3.9999998989515007e-05.\n",
      "Epoch 6/25\n",
      "34/34 [==============================] - 1559s 46s/step - loss: 1.0071 - categorical_accuracy: 0.6172 - val_loss: 5.2610 - val_categorical_accuracy: 0.1600\n",
      "\n",
      "Epoch 00006: saving model to model_init_2023-02-1419_50_16.147096/model-00006-1.01578-0.61614-5.26100-0.16000.h5\n",
      "Epoch 7/25\n",
      "34/34 [==============================] - 1590s 47s/step - loss: 1.0192 - categorical_accuracy: 0.6143 - val_loss: 4.9652 - val_categorical_accuracy: 0.1600\n",
      "\n",
      "Epoch 00007: saving model to model_init_2023-02-1419_50_16.147096/model-00007-0.99864-0.62293-4.96525-0.16000.h5\n",
      "Epoch 8/25\n",
      "34/34 [==============================] - 1630s 48s/step - loss: 0.9621 - categorical_accuracy: 0.6106 - val_loss: 5.2819 - val_categorical_accuracy: 0.1500\n",
      "\n",
      "Epoch 00008: saving model to model_init_2023-02-1419_50_16.147096/model-00008-0.94265-0.61689-5.28191-0.15000.h5\n",
      "Epoch 9/25\n",
      "34/34 [==============================] - 1628s 48s/step - loss: 1.0423 - categorical_accuracy: 0.6101 - val_loss: 5.2657 - val_categorical_accuracy: 0.1400\n",
      "\n",
      "Epoch 00009: saving model to model_init_2023-02-1419_50_16.147096/model-00009-0.97466-0.63047-5.26574-0.14000.h5\n",
      "\n",
      "Epoch 00009: ReduceLROnPlateau reducing learning rate to 7.999999797903002e-06.\n",
      "Epoch 10/25\n",
      "34/34 [==============================] - 1604s 47s/step - loss: 0.9098 - categorical_accuracy: 0.6338 - val_loss: 4.4454 - val_categorical_accuracy: 0.1900\n",
      "\n",
      "Epoch 00010: saving model to model_init_2023-02-1419_50_16.147096/model-00010-0.97582-0.62142-4.44543-0.19000.h5\n",
      "Epoch 11/25\n",
      "34/34 [==============================] - 1617s 48s/step - loss: 0.9007 - categorical_accuracy: 0.6658 - val_loss: 4.6805 - val_categorical_accuracy: 0.1900\n",
      "\n",
      "Epoch 00011: saving model to model_init_2023-02-1419_50_16.147096/model-00011-0.92918-0.65385-4.68047-0.19000.h5\n",
      "Epoch 12/25\n",
      "34/34 [==============================] - 1563s 46s/step - loss: 0.8844 - categorical_accuracy: 0.6651 - val_loss: 4.4181 - val_categorical_accuracy: 0.1900\n",
      "\n",
      "Epoch 00012: saving model to model_init_2023-02-1419_50_16.147096/model-00012-0.90230-0.64630-4.41806-0.19000.h5\n",
      "Epoch 13/25\n",
      "34/34 [==============================] - 1557s 46s/step - loss: 0.9721 - categorical_accuracy: 0.6553 - val_loss: 4.5061 - val_categorical_accuracy: 0.2000\n",
      "\n",
      "Epoch 00013: saving model to model_init_2023-02-1419_50_16.147096/model-00013-0.94949-0.64630-4.50608-0.20000.h5\n",
      "\n",
      "Epoch 00013: ReduceLROnPlateau reducing learning rate to 1.5999999959603884e-06.\n",
      "Epoch 14/25\n",
      "34/34 [==============================] - 1553s 46s/step - loss: 0.9843 - categorical_accuracy: 0.6169 - val_loss: 4.3405 - val_categorical_accuracy: 0.2400\n",
      "\n",
      "Epoch 00014: saving model to model_init_2023-02-1419_50_16.147096/model-00014-0.99333-0.62745-4.34051-0.24000.h5\n",
      "Epoch 15/25\n",
      "34/34 [==============================] - 1552s 46s/step - loss: 0.9424 - categorical_accuracy: 0.6365 - val_loss: 4.3476 - val_categorical_accuracy: 0.2500\n",
      "\n",
      "Epoch 00015: saving model to model_init_2023-02-1419_50_16.147096/model-00015-0.92130-0.65158-4.34763-0.25000.h5\n",
      "Epoch 16/25\n",
      "34/34 [==============================] - 1551s 46s/step - loss: 0.9408 - categorical_accuracy: 0.6287 - val_loss: 4.4720 - val_categorical_accuracy: 0.2400\n",
      "\n",
      "Epoch 00016: saving model to model_init_2023-02-1419_50_16.147096/model-00016-0.92248-0.63876-4.47195-0.24000.h5\n",
      "Epoch 17/25\n",
      "34/34 [==============================] - 1549s 46s/step - loss: 0.9020 - categorical_accuracy: 0.6661 - val_loss: 4.1362 - val_categorical_accuracy: 0.3000\n",
      "\n",
      "Epoch 00017: saving model to model_init_2023-02-1419_50_16.147096/model-00017-0.89449-0.66214-4.13616-0.30000.h5\n",
      "\n",
      "Epoch 00017: ReduceLROnPlateau reducing learning rate to 3.200000037395512e-07.\n",
      "Epoch 18/25\n",
      "34/34 [==============================] - 1552s 46s/step - loss: 0.9894 - categorical_accuracy: 0.6387 - val_loss: 4.3767 - val_categorical_accuracy: 0.2100\n",
      "\n",
      "Epoch 00018: saving model to model_init_2023-02-1419_50_16.147096/model-00018-0.94864-0.65385-4.37669-0.21000.h5\n",
      "Epoch 19/25\n",
      "34/34 [==============================] - 1553s 46s/step - loss: 0.9124 - categorical_accuracy: 0.6491 - val_loss: 4.2733 - val_categorical_accuracy: 0.2600\n",
      "\n",
      "Epoch 00019: saving model to model_init_2023-02-1419_50_16.147096/model-00019-0.90720-0.65158-4.27332-0.26000.h5\n",
      "Epoch 20/25\n",
      "34/34 [==============================] - 1552s 46s/step - loss: 0.8898 - categorical_accuracy: 0.6579 - val_loss: 4.1417 - val_categorical_accuracy: 0.2400\n",
      "\n",
      "Epoch 00020: saving model to model_init_2023-02-1419_50_16.147096/model-00020-0.89526-0.65385-4.14167-0.24000.h5\n",
      "Epoch 21/25\n",
      "34/34 [==============================] - 1551s 46s/step - loss: 0.8915 - categorical_accuracy: 0.6729 - val_loss: 4.1860 - val_categorical_accuracy: 0.2400\n",
      "\n",
      "Epoch 00021: saving model to model_init_2023-02-1419_50_16.147096/model-00021-0.89161-0.65913-4.18603-0.24000.h5\n",
      "\n",
      "Epoch 00021: ReduceLROnPlateau reducing learning rate to 6.399999961104187e-08.\n",
      "Epoch 22/25\n",
      "34/34 [==============================] - 1550s 46s/step - loss: 0.8673 - categorical_accuracy: 0.6695 - val_loss: 3.9771 - val_categorical_accuracy: 0.2500\n",
      "\n",
      "Epoch 00022: saving model to model_init_2023-02-1419_50_16.147096/model-00022-0.88778-0.65913-3.97706-0.25000.h5\n",
      "Epoch 23/25\n",
      "34/34 [==============================] - 1550s 46s/step - loss: 0.9412 - categorical_accuracy: 0.6401 - val_loss: 4.1936 - val_categorical_accuracy: 0.2500\n",
      "\n",
      "Epoch 00023: saving model to model_init_2023-02-1419_50_16.147096/model-00023-0.92732-0.64329-4.19363-0.25000.h5\n",
      "Epoch 24/25\n",
      "34/34 [==============================] - 1549s 46s/step - loss: 0.9268 - categorical_accuracy: 0.6510 - val_loss: 3.8808 - val_categorical_accuracy: 0.2500\n",
      "\n",
      "Epoch 00024: saving model to model_init_2023-02-1419_50_16.147096/model-00024-0.94695-0.63876-3.88078-0.25000.h5\n",
      "Epoch 25/25\n",
      "34/34 [==============================] - 1556s 46s/step - loss: 0.8965 - categorical_accuracy: 0.6487 - val_loss: 4.2437 - val_categorical_accuracy: 0.2200\n",
      "\n",
      "Epoch 00025: saving model to model_init_2023-02-1419_50_16.147096/model-00025-0.92552-0.64329-4.24373-0.22000.h5\n",
      "\n",
      "Epoch 00025: ReduceLROnPlateau reducing learning rate to 1.2799999637991278e-08.\n"
     ]
    }
   ],
   "source": [
    "print(\"Total Params:\", conv_3d12_model.count_params())\n",
    "history_model12=conv_3d12.train_model(conv_3d12_model,augment_data=True)"
   ]
  },
  {
   "cell_type": "code",
   "execution_count": 22,
   "metadata": {
    "id": "Cub0SGQR8Tly"
   },
   "outputs": [
    {
     "data": {
      "image/png": "[encoded data removed]",
      "text/plain": [
       "<Figure size 1080x288 with 2 Axes>"
      ]
     },
     "metadata": {
      "needs_background": "light"
     },
     "output_type": "display_data"
    }
   ],
   "source": [
    "visualizeModelHistoryResult(history_model12)"
   ]
  },
  {
   "cell_type": "markdown",
   "metadata": {
    "id": "saGgWSI-8Tlz"
   },
   "source": [
    "**Model is overfitting badly !!**"
   ]
  },
  {
   "cell_type": "markdown",
   "metadata": {
    "id": "SrxDQYsc8Tl1"
   },
   "source": [
    "## Experiment Number 8 : CNN-LSTM GRU with Data Augmentation"
   ]
  },
  {
   "cell_type": "code",
   "execution_count": 23,
   "metadata": {
    "id": "KWLwYJFc8Tl1"
   },
   "outputs": [],
   "source": [
    "class RNNCNN2(ModelBuilderMoreAugmentation):\n",
    "    \n",
    "    def define_model(self,lstm_cells=64,dense_neurons=64,dropout=0.25):\n",
    "\n",
    "        model = Sequential()\n",
    "\n",
    "        model.add(TimeDistributed(Conv2D(16, (3, 3) , padding='same', activation='relu'),\n",
    "                                  input_shape=(self.frames_to_sample,self.image_height,self.image_width,self.channels)))\n",
    "        model.add(TimeDistributed(BatchNormalization()))\n",
    "        model.add(TimeDistributed(MaxPooling2D((2, 2))))\n",
    "        \n",
    "        model.add(TimeDistributed(Conv2D(32, (3, 3) , padding='same', activation='relu')))\n",
    "        model.add(TimeDistributed(BatchNormalization()))\n",
    "        model.add(TimeDistributed(MaxPooling2D((2, 2))))\n",
    "        \n",
    "        model.add(TimeDistributed(Conv2D(64, (3, 3) , padding='same', activation='relu')))\n",
    "        model.add(TimeDistributed(BatchNormalization()))\n",
    "        model.add(TimeDistributed(MaxPooling2D((2, 2))))\n",
    "        \n",
    "        model.add(TimeDistributed(Conv2D(128, (3, 3) , padding='same', activation='relu')))\n",
    "        model.add(TimeDistributed(BatchNormalization()))\n",
    "        model.add(TimeDistributed(MaxPooling2D((2, 2))))\n",
    "        \n",
    "\n",
    "        model.add(TimeDistributed(Flatten()))\n",
    "\n",
    "\n",
    "        model.add(GRU(lstm_cells))\n",
    "        model.add(Dropout(dropout))\n",
    "        \n",
    "        model.add(Dense(dense_neurons,activation='relu'))\n",
    "        model.add(Dropout(dropout))\n",
    "        \n",
    "        model.add(Dense(self.num_classes, activation='softmax'))\n",
    "        optimiser = optimizers.Adam(lr=0.0002)\n",
    "        model.compile(optimizer=optimiser, loss='categorical_crossentropy', metrics=['categorical_accuracy'])\n",
    "        return model"
   ]
  },
  {
   "cell_type": "code",
   "execution_count": 24,
   "metadata": {
    "id": "hCpooGvX8Tl2"
   },
   "outputs": [
    {
     "name": "stdout",
     "output_type": "stream",
     "text": [
      "Model: \"sequential_3\"\n",
      "_________________________________________________________________\n",
      "Layer (type)                 Output Shape              Param #   \n",
      "=================================================================\n",
      "time_distributed_16 (TimeDis (None, 18, 120, 120, 16)  448       \n",
      "_________________________________________________________________\n",
      "time_distributed_17 (TimeDis (None, 18, 120, 120, 16)  64        \n",
      "_________________________________________________________________\n",
      "time_distributed_18 (TimeDis (None, 18, 60, 60, 16)    0         \n",
      "_________________________________________________________________\n",
      "time_distributed_19 (TimeDis (None, 18, 60, 60, 32)    4640      \n",
      "_________________________________________________________________\n",
      "time_distributed_20 (TimeDis (None, 18, 60, 60, 32)    128       \n",
      "_________________________________________________________________\n",
      "time_distributed_21 (TimeDis (None, 18, 30, 30, 32)    0         \n",
      "_________________________________________________________________\n",
      "time_distributed_22 (TimeDis (None, 18, 30, 30, 64)    18496     \n",
      "_________________________________________________________________\n",
      "time_distributed_23 (TimeDis (None, 18, 30, 30, 64)    256       \n",
      "_________________________________________________________________\n",
      "time_distributed_24 (TimeDis (None, 18, 15, 15, 64)    0         \n",
      "_________________________________________________________________\n",
      "time_distributed_25 (TimeDis (None, 18, 15, 15, 128)   73856     \n",
      "_________________________________________________________________\n",
      "time_distributed_26 (TimeDis (None, 18, 15, 15, 128)   512       \n",
      "_________________________________________________________________\n",
      "time_distributed_27 (TimeDis (None, 18, 7, 7, 128)     0         \n",
      "_________________________________________________________________\n",
      "time_distributed_28 (TimeDis (None, 18, 6272)          0         \n",
      "_________________________________________________________________\n",
      "gru (GRU)                    (None, 128)               2458368   \n",
      "_________________________________________________________________\n",
      "dropout_14 (Dropout)         (None, 128)               0         \n",
      "_________________________________________________________________\n",
      "dense_8 (Dense)              (None, 128)               16512     \n",
      "_________________________________________________________________\n",
      "dropout_15 (Dropout)         (None, 128)               0         \n",
      "_________________________________________________________________\n",
      "dense_9 (Dense)              (None, 5)                 645       \n",
      "=================================================================\n",
      "Total params: 2,573,925\n",
      "Trainable params: 2,573,445\n",
      "Non-trainable params: 480\n",
      "_________________________________________________________________\n"
     ]
    }
   ],
   "source": [
    "rnn_cnn2=RNNCNN2()\n",
    "rnn_cnn2.initialize_path(project_folder)\n",
    "rnn_cnn2.initialize_image_properties(image_height=120,image_width=120)\n",
    "rnn_cnn2.initialize_hyperparams(frames_to_sample=18,batch_size=20,num_epochs=20)\n",
    "rnn_cnn2_model=rnn_cnn2.define_model(lstm_cells=128,dense_neurons=128,dropout=0.25)\n",
    "rnn_cnn2_model.summary()"
   ]
  },
  {
   "cell_type": "code",
   "execution_count": 25,
   "metadata": {
    "id": "jp1nHY8z8Tl2"
   },
   "outputs": [
    {
     "name": "stdout",
     "output_type": "stream",
     "text": [
      "Total Params: 2573925\n",
      "WARNING:tensorflow:`period` argument is deprecated. Please use `save_freq` to specify the frequency in number of batches seen.\n",
      "Epoch 1/20\n",
      "34/34 [==============================] - 175s 5s/step - loss: 1.7154 - categorical_accuracy: 0.2744 - val_loss: 1.6486 - val_categorical_accuracy: 0.2400\n",
      "\n",
      "Epoch 00001: saving model to model_init_2023-02-1506_53_11.317240/model-00001-1.52673-0.35445-1.64857-0.24000.h5\n",
      "Epoch 2/20\n",
      "34/34 [==============================] - 172s 5s/step - loss: 1.1203 - categorical_accuracy: 0.5709 - val_loss: 1.8994 - val_categorical_accuracy: 0.1800\n",
      "\n",
      "Epoch 00002: saving model to model_init_2023-02-1506_53_11.317240/model-00002-1.12456-0.55430-1.89936-0.18000.h5\n",
      "Epoch 3/20\n",
      "34/34 [==============================] - 172s 5s/step - loss: 0.9220 - categorical_accuracy: 0.6698 - val_loss: 2.1752 - val_categorical_accuracy: 0.2000\n",
      "\n",
      "Epoch 00003: saving model to model_init_2023-02-1506_53_11.317240/model-00003-0.90105-0.66516-2.17520-0.20000.h5\n",
      "Epoch 4/20\n",
      "34/34 [==============================] - 172s 5s/step - loss: 0.7555 - categorical_accuracy: 0.7259 - val_loss: 2.5921 - val_categorical_accuracy: 0.2000\n",
      "\n",
      "Epoch 00004: saving model to model_init_2023-02-1506_53_11.317240/model-00004-0.71755-0.74736-2.59210-0.20000.h5\n",
      "Epoch 5/20\n",
      "34/34 [==============================] - 172s 5s/step - loss: 0.5631 - categorical_accuracy: 0.8137 - val_loss: 2.5732 - val_categorical_accuracy: 0.2500\n",
      "\n",
      "Epoch 00005: saving model to model_init_2023-02-1506_53_11.317240/model-00005-0.63527-0.76923-2.57320-0.25000.h5\n",
      "\n",
      "Epoch 00005: ReduceLROnPlateau reducing learning rate to 3.9999998989515007e-05.\n",
      "Epoch 6/20\n",
      "34/34 [==============================] - 174s 5s/step - loss: 0.5462 - categorical_accuracy: 0.8241 - val_loss: 2.9136 - val_categorical_accuracy: 0.2100\n",
      "\n",
      "Epoch 00006: saving model to model_init_2023-02-1506_53_11.317240/model-00006-0.51399-0.82805-2.91359-0.21000.h5\n",
      "Epoch 7/20\n",
      "34/34 [==============================] - 171s 5s/step - loss: 0.4312 - categorical_accuracy: 0.8729 - val_loss: 3.0943 - val_categorical_accuracy: 0.2100\n",
      "\n",
      "Epoch 00007: saving model to model_init_2023-02-1506_53_11.317240/model-00007-0.42163-0.87406-3.09428-0.21000.h5\n",
      "Epoch 8/20\n",
      "34/34 [==============================] - 171s 5s/step - loss: 0.4018 - categorical_accuracy: 0.8751 - val_loss: 3.3249 - val_categorical_accuracy: 0.2000\n",
      "\n",
      "Epoch 00008: saving model to model_init_2023-02-1506_53_11.317240/model-00008-0.39913-0.88311-3.32491-0.20000.h5\n",
      "Epoch 9/20\n",
      "34/34 [==============================] - 172s 5s/step - loss: 0.3917 - categorical_accuracy: 0.8847 - val_loss: 3.0904 - val_categorical_accuracy: 0.2300\n",
      "\n",
      "Epoch 00009: saving model to model_init_2023-02-1506_53_11.317240/model-00009-0.37087-0.89593-3.09044-0.23000.h5\n",
      "\n",
      "Epoch 00009: ReduceLROnPlateau reducing learning rate to 7.999999797903002e-06.\n",
      "Epoch 10/20\n",
      "34/34 [==============================] - 171s 5s/step - loss: 0.3375 - categorical_accuracy: 0.9229 - val_loss: 3.1826 - val_categorical_accuracy: 0.1500\n",
      "\n",
      "Epoch 00010: saving model to model_init_2023-02-1506_53_11.317240/model-00010-0.34385-0.90799-3.18256-0.15000.h5\n",
      "Epoch 11/20\n",
      "34/34 [==============================] - 173s 5s/step - loss: 0.3246 - categorical_accuracy: 0.9062 - val_loss: 2.7615 - val_categorical_accuracy: 0.2200\n",
      "\n",
      "Epoch 00011: saving model to model_init_2023-02-1506_53_11.317240/model-00011-0.32936-0.90875-2.76147-0.22000.h5\n",
      "Epoch 12/20\n",
      "34/34 [==============================] - 171s 5s/step - loss: 0.3131 - categorical_accuracy: 0.9194 - val_loss: 2.5095 - val_categorical_accuracy: 0.2500\n",
      "\n",
      "Epoch 00012: saving model to model_init_2023-02-1506_53_11.317240/model-00012-0.33183-0.91554-2.50953-0.25000.h5\n",
      "Epoch 13/20\n",
      "34/34 [==============================] - 172s 5s/step - loss: 0.3037 - categorical_accuracy: 0.9237 - val_loss: 1.8961 - val_categorical_accuracy: 0.3300\n",
      "\n",
      "Epoch 00013: saving model to model_init_2023-02-1506_53_11.317240/model-00013-0.31974-0.90950-1.89607-0.33000.h5\n",
      "\n",
      "Epoch 00013: ReduceLROnPlateau reducing learning rate to 1.5999999959603884e-06.\n",
      "Epoch 14/20\n",
      "34/34 [==============================] - 172s 5s/step - loss: 0.3453 - categorical_accuracy: 0.9121 - val_loss: 1.8041 - val_categorical_accuracy: 0.3500\n",
      "\n",
      "Epoch 00014: saving model to model_init_2023-02-1506_53_11.317240/model-00014-0.32692-0.91855-1.80412-0.35000.h5\n",
      "Epoch 15/20\n",
      "34/34 [==============================] - 171s 5s/step - loss: 0.3070 - categorical_accuracy: 0.9163 - val_loss: 1.2808 - val_categorical_accuracy: 0.4500\n",
      "\n",
      "Epoch 00015: saving model to model_init_2023-02-1506_53_11.317240/model-00015-0.31407-0.91327-1.28079-0.45000.h5\n",
      "Epoch 16/20\n",
      "34/34 [==============================] - 173s 5s/step - loss: 0.3321 - categorical_accuracy: 0.9050 - val_loss: 1.1703 - val_categorical_accuracy: 0.4700\n",
      "\n",
      "Epoch 00016: saving model to model_init_2023-02-1506_53_11.317240/model-00016-0.31838-0.91252-1.17030-0.47000.h5\n",
      "Epoch 17/20\n",
      "34/34 [==============================] - 170s 5s/step - loss: 0.3377 - categorical_accuracy: 0.9033 - val_loss: 1.0507 - val_categorical_accuracy: 0.5800\n",
      "\n",
      "Epoch 00017: saving model to model_init_2023-02-1506_53_11.317240/model-00017-0.32467-0.90724-1.05067-0.58000.h5\n",
      "Epoch 18/20\n",
      "34/34 [==============================] - 171s 5s/step - loss: 0.3135 - categorical_accuracy: 0.9171 - val_loss: 0.8422 - val_categorical_accuracy: 0.6300\n",
      "\n",
      "Epoch 00018: saving model to model_init_2023-02-1506_53_11.317240/model-00018-0.31096-0.91704-0.84218-0.63000.h5\n",
      "Epoch 19/20\n",
      "34/34 [==============================] - 172s 5s/step - loss: 0.3136 - categorical_accuracy: 0.9172 - val_loss: 0.6279 - val_categorical_accuracy: 0.7800\n",
      "\n",
      "Epoch 00019: saving model to model_init_2023-02-1506_53_11.317240/model-00019-0.31522-0.91176-0.62787-0.78000.h5\n",
      "Epoch 20/20\n",
      "34/34 [==============================] - 171s 5s/step - loss: 0.3014 - categorical_accuracy: 0.9165 - val_loss: 0.7595 - val_categorical_accuracy: 0.6800\n",
      "\n",
      "Epoch 00020: saving model to model_init_2023-02-1506_53_11.317240/model-00020-0.30748-0.91252-0.75953-0.68000.h5\n"
     ]
    }
   ],
   "source": [
    "print(\"Total Params:\", rnn_cnn2_model.count_params())\n",
    "history_model15=rnn_cnn2.train_model(rnn_cnn2_model,augment_data=True)"
   ]
  },
  {
   "cell_type": "code",
   "execution_count": 26,
   "metadata": {
    "id": "Ongzfwi_8Tl2"
   },
   "outputs": [
    {
     "data": {
      "image/png": "[encoded data removed]",
      "text/plain": [
       "<Figure size 1080x288 with 2 Axes>"
      ]
     },
     "metadata": {
      "needs_background": "light"
     },
     "output_type": "display_data"
    }
   ],
   "source": [
    "visualizeModelHistoryResult(history_model15)"
   ]
  },
  {
   "cell_type": "markdown",
   "metadata": {
    "collapsed": true,
    "id": "I0BILSAy8Tl2"
   },
   "source": [
    "### We see that overfitting is considerably high when we do more augmentation. However there is not much improvement on accuracy"
   ]
  },
  {
   "cell_type": "markdown",
   "metadata": {
    "collapsed": true,
    "id": "r0izqjiP8Tl2"
   },
   "source": [
    "### Let us bring in Transfer Learning !! :)"
   ]
  },
  {
   "cell_type": "markdown",
   "metadata": {
    "id": "F7_xkqry8Tl4"
   },
   "source": [
    "## Experiment Number 9 : Transfer Learning with GRU"
   ]
  },
  {
   "cell_type": "code",
   "execution_count": 29,
   "metadata": {
    "id": "WnaZFRxb8Tl2"
   },
   "outputs": [],
   "source": [
    "# importing the MobileNet model due to it's lightweight architecture and high speed performance as compared \n",
    "# to other heavy-duty models like VGG16, Alexnet, InceptionV3 etc. Also, we are now also running on low disk space \n",
    "# in the nimblebox.ai platform. \n",
    "\n",
    "from keras.applications import mobilenet"
   ]
  },
  {
   "cell_type": "code",
   "execution_count": 31,
   "metadata": {
    "id": "vLeGs3Sk8Tl4"
   },
   "outputs": [
    {
     "name": "stdout",
     "output_type": "stream",
     "text": [
      "WARNING:tensorflow:`input_shape` is undefined or non-square, or `rows` is not in [128, 160, 192, 224]. Weights for input shape (224, 224) will be loaded as the default.\n",
      "Downloading data from https://storage.googleapis.com/tensorflow/keras-applications/mobilenet/mobilenet_1_0_224_tf_no_top.h5\n",
      "17227776/17225924 [==============================] - 9s 1us/step\n"
     ]
    }
   ],
   "source": [
    "from keras.applications import mobilenet\n",
    "\n",
    "mobilenet_transfer = mobilenet.MobileNet(weights='imagenet', include_top=False)\n",
    "\n",
    "class RNNCNN_TL2(ModelBuilderMoreAugmentation):\n",
    "    \n",
    "    def define_model(self,gru_cells=64,dense_neurons=64,dropout=0.25):\n",
    "        \n",
    "        model = Sequential()\n",
    "        model.add(TimeDistributed(mobilenet_transfer,input_shape=(self.frames_to_sample,self.image_height,self.image_width,self.channels)))\n",
    " \n",
    "        \n",
    "        model.add(TimeDistributed(BatchNormalization()))\n",
    "        model.add(TimeDistributed(MaxPooling2D((2, 2))))\n",
    "        model.add(TimeDistributed(Flatten()))\n",
    "\n",
    "        model.add(GRU(gru_cells))\n",
    "        model.add(Dropout(dropout))\n",
    "        \n",
    "        model.add(Dense(dense_neurons,activation='relu'))\n",
    "        model.add(Dropout(dropout))\n",
    "        \n",
    "        model.add(Dense(self.num_classes, activation='softmax'))\n",
    "        \n",
    "        \n",
    "        optimiser = optimizers.Adam()\n",
    "        model.compile(optimizer=optimiser, loss='categorical_crossentropy', metrics=['categorical_accuracy'])\n",
    "        return model"
   ]
  },
  {
   "cell_type": "code",
   "execution_count": 32,
   "metadata": {
    "id": "NZtDM-T68Tl4"
   },
   "outputs": [
    {
     "name": "stdout",
     "output_type": "stream",
     "text": [
      "Model: \"sequential_4\"\n",
      "_________________________________________________________________\n",
      "Layer (type)                 Output Shape              Param #   \n",
      "=================================================================\n",
      "time_distributed_29 (TimeDis (None, 16, 3, 3, 1024)    3228864   \n",
      "_________________________________________________________________\n",
      "time_distributed_30 (TimeDis (None, 16, 3, 3, 1024)    4096      \n",
      "_________________________________________________________________\n",
      "time_distributed_31 (TimeDis (None, 16, 1, 1, 1024)    0         \n",
      "_________________________________________________________________\n",
      "time_distributed_32 (TimeDis (None, 16, 1024)          0         \n",
      "_________________________________________________________________\n",
      "gru_1 (GRU)                  (None, 128)               443136    \n",
      "_________________________________________________________________\n",
      "dropout_16 (Dropout)         (None, 128)               0         \n",
      "_________________________________________________________________\n",
      "dense_10 (Dense)             (None, 128)               16512     \n",
      "_________________________________________________________________\n",
      "dropout_17 (Dropout)         (None, 128)               0         \n",
      "_________________________________________________________________\n",
      "dense_11 (Dense)             (None, 5)                 645       \n",
      "=================================================================\n",
      "Total params: 3,693,253\n",
      "Trainable params: 3,669,317\n",
      "Non-trainable params: 23,936\n",
      "_________________________________________________________________\n"
     ]
    }
   ],
   "source": [
    "rnn_cnn_tl2=RNNCNN_TL2()\n",
    "rnn_cnn_tl2.initialize_path(project_folder)\n",
    "rnn_cnn_tl2.initialize_image_properties(image_height=120,image_width=120)\n",
    "rnn_cnn_tl2.initialize_hyperparams(frames_to_sample=16,batch_size=5,num_epochs=20)\n",
    "rnn_cnn_tl2_model=rnn_cnn_tl2.define_model(gru_cells=128,dense_neurons=128,dropout=0.25)\n",
    "rnn_cnn_tl2_model.summary()"
   ]
  },
  {
   "cell_type": "code",
   "execution_count": 33,
   "metadata": {
    "id": "1T7HEdqP8Tl4",
    "scrolled": true
   },
   "outputs": [
    {
     "name": "stdout",
     "output_type": "stream",
     "text": [
      "Total Params: 3693253\n",
      "WARNING:tensorflow:`period` argument is deprecated. Please use `save_freq` to specify the frequency in number of batches seen.\n",
      "Epoch 1/20\n",
      "133/133 [==============================] - 565s 4s/step - loss: 1.5400 - categorical_accuracy: 0.3545 - val_loss: 0.6821 - val_categorical_accuracy: 0.7400\n",
      "\n",
      "Epoch 00001: saving model to model_init_2023-02-1508_52_59.404268/model-00001-1.31775-0.44721-0.68208-0.74000.h5\n",
      "Epoch 2/20\n",
      "133/133 [==============================] - 565s 4s/step - loss: 0.8512 - categorical_accuracy: 0.6720 - val_loss: 0.5898 - val_categorical_accuracy: 0.7800\n",
      "\n",
      "Epoch 00002: saving model to model_init_2023-02-1508_52_59.404268/model-00002-0.79674-0.70513-0.58983-0.78000.h5\n",
      "Epoch 3/20\n",
      "133/133 [==============================] - 545s 4s/step - loss: 0.5407 - categorical_accuracy: 0.7929 - val_loss: 0.4862 - val_categorical_accuracy: 0.7900\n",
      "\n",
      "Epoch 00003: saving model to model_init_2023-02-1508_52_59.404268/model-00003-0.45891-0.82353-0.48623-0.79000.h5\n",
      "Epoch 4/20\n",
      "133/133 [==============================] - 536s 4s/step - loss: 0.3630 - categorical_accuracy: 0.8531 - val_loss: 0.5514 - val_categorical_accuracy: 0.8100\n",
      "\n",
      "Epoch 00004: saving model to model_init_2023-02-1508_52_59.404268/model-00004-0.41307-0.84917-0.55136-0.81000.h5\n",
      "Epoch 5/20\n",
      "133/133 [==============================] - 537s 4s/step - loss: 0.3557 - categorical_accuracy: 0.8817 - val_loss: 0.6471 - val_categorical_accuracy: 0.7700\n",
      "\n",
      "Epoch 00005: saving model to model_init_2023-02-1508_52_59.404268/model-00005-0.33651-0.88386-0.64711-0.77000.h5\n",
      "Epoch 6/20\n",
      "133/133 [==============================] - 533s 4s/step - loss: 0.3333 - categorical_accuracy: 0.8849 - val_loss: 0.4525 - val_categorical_accuracy: 0.8300\n",
      "\n",
      "Epoch 00006: saving model to model_init_2023-02-1508_52_59.404268/model-00006-0.34440-0.88386-0.45246-0.83000.h5\n",
      "Epoch 7/20\n",
      "133/133 [==============================] - 562s 4s/step - loss: 0.2717 - categorical_accuracy: 0.9302 - val_loss: 0.1891 - val_categorical_accuracy: 0.9500\n",
      "\n",
      "Epoch 00007: saving model to model_init_2023-02-1508_52_59.404268/model-00007-0.23339-0.92986-0.18913-0.95000.h5\n",
      "Epoch 8/20\n",
      "133/133 [==============================] - 603s 5s/step - loss: 0.2714 - categorical_accuracy: 0.8956 - val_loss: 0.2907 - val_categorical_accuracy: 0.9300\n",
      "\n",
      "Epoch 00008: saving model to model_init_2023-02-1508_52_59.404268/model-00008-0.27200-0.89517-0.29065-0.93000.h5\n",
      "Epoch 9/20\n",
      "133/133 [==============================] - 590s 4s/step - loss: 0.2837 - categorical_accuracy: 0.8983 - val_loss: 0.3204 - val_categorical_accuracy: 0.9000\n",
      "\n",
      "Epoch 00009: saving model to model_init_2023-02-1508_52_59.404268/model-00009-0.26802-0.90498-0.32043-0.90000.h5\n",
      "Epoch 10/20\n",
      "133/133 [==============================] - 2627s 18s/step - loss: 0.2070 - categorical_accuracy: 0.9431 - val_loss: 0.1865 - val_categorical_accuracy: 0.9400\n",
      "\n",
      "Epoch 00010: saving model to model_init_2023-02-1508_52_59.404268/model-00010-0.22753-0.93062-0.18648-0.94000.h5\n",
      "Epoch 11/20\n",
      "133/133 [==============================] - 536s 4s/step - loss: 0.2150 - categorical_accuracy: 0.9388 - val_loss: 0.2510 - val_categorical_accuracy: 0.9100\n",
      "\n",
      "Epoch 00011: saving model to model_init_2023-02-1508_52_59.404268/model-00011-0.25155-0.92911-0.25104-0.91000.h5\n",
      "Epoch 12/20\n",
      "133/133 [==============================] - 1051s 8s/step - loss: 0.1480 - categorical_accuracy: 0.9556 - val_loss: 0.3167 - val_categorical_accuracy: 0.9100\n",
      "\n",
      "Epoch 00012: saving model to model_init_2023-02-1508_52_59.404268/model-00012-0.14265-0.95701-0.31666-0.91000.h5\n",
      "Epoch 13/20\n",
      "133/133 [==============================] - 539s 4s/step - loss: 0.1203 - categorical_accuracy: 0.9536 - val_loss: 0.4093 - val_categorical_accuracy: 0.8400\n",
      "\n",
      "Epoch 00013: saving model to model_init_2023-02-1508_52_59.404268/model-00013-0.15146-0.94646-0.40928-0.84000.h5\n",
      "Epoch 14/20\n",
      "133/133 [==============================] - 536s 4s/step - loss: 0.2409 - categorical_accuracy: 0.9212 - val_loss: 0.2065 - val_categorical_accuracy: 0.9400\n",
      "\n",
      "Epoch 00014: saving model to model_init_2023-02-1508_52_59.404268/model-00014-0.22554-0.93665-0.20646-0.94000.h5\n",
      "\n",
      "Epoch 00014: ReduceLROnPlateau reducing learning rate to 0.00020000000949949026.\n",
      "Epoch 15/20\n",
      "133/133 [==============================] - 1341s 10s/step - loss: 0.1142 - categorical_accuracy: 0.9728 - val_loss: 0.1286 - val_categorical_accuracy: 0.9700\n",
      "\n",
      "Epoch 00015: saving model to model_init_2023-02-1508_52_59.404268/model-00015-0.14534-0.96531-0.12864-0.97000.h5\n",
      "Epoch 16/20\n",
      "133/133 [==============================] - 573s 4s/step - loss: 0.0784 - categorical_accuracy: 0.9825 - val_loss: 0.1947 - val_categorical_accuracy: 0.9500\n",
      "\n",
      "Epoch 00016: saving model to model_init_2023-02-1508_52_59.404268/model-00016-0.06072-0.98492-0.19474-0.95000.h5\n",
      "Epoch 17/20\n",
      "133/133 [==============================] - 605s 5s/step - loss: 0.0549 - categorical_accuracy: 0.9854 - val_loss: 0.1578 - val_categorical_accuracy: 0.9700\n",
      "\n",
      "Epoch 00017: saving model to model_init_2023-02-1508_52_59.404268/model-00017-0.04744-0.98492-0.15775-0.97000.h5\n",
      "Epoch 18/20\n",
      "133/133 [==============================] - 622s 5s/step - loss: 0.0212 - categorical_accuracy: 0.9949 - val_loss: 0.2040 - val_categorical_accuracy: 0.9500\n",
      "\n",
      "Epoch 00018: saving model to model_init_2023-02-1508_52_59.404268/model-00018-0.02588-0.99397-0.20398-0.95000.h5\n",
      "Epoch 19/20\n",
      "133/133 [==============================] - 723s 5s/step - loss: 0.0256 - categorical_accuracy: 0.9907 - val_loss: 0.2036 - val_categorical_accuracy: 0.9500\n",
      "\n",
      "Epoch 00019: saving model to model_init_2023-02-1508_52_59.404268/model-00019-0.02947-0.98793-0.20356-0.95000.h5\n",
      "\n",
      "Epoch 00019: ReduceLROnPlateau reducing learning rate to 4.0000001899898055e-05.\n",
      "Epoch 20/20\n",
      "133/133 [==============================] - 782s 6s/step - loss: 0.0190 - categorical_accuracy: 0.9964 - val_loss: 0.2368 - val_categorical_accuracy: 0.9500\n",
      "\n",
      "Epoch 00020: saving model to model_init_2023-02-1508_52_59.404268/model-00020-0.02337-0.99397-0.23678-0.95000.h5\n"
     ]
    }
   ],
   "source": [
    "print(\"Total Params:\", rnn_cnn_tl2_model.count_params())\n",
    "history_model17=rnn_cnn_tl2.train_model(rnn_cnn_tl2_model,augment_data=True)"
   ]
  },
  {
   "cell_type": "code",
   "execution_count": 34,
   "metadata": {
    "id": "C2a268fZ8Tl5"
   },
   "outputs": [
    {
     "data": {
      "image/png": "[encoded data removed]",
      "text/plain": [
       "<Figure size 1080x288 with 2 Axes>"
      ]
     },
     "metadata": {
      "needs_background": "light"
     },
     "output_type": "display_data"
    }
   ],
   "source": [
    "visualizeModelHistoryResult(history_model17)"
   ]
  },
  {
   "cell_type": "markdown",
   "metadata": {
    "id": "jmocWex58Tl5"
   },
   "source": [
    "### Awesome results! 98% Training accuracy and 93% validation accuracy :)"
   ]
  },
  {
   "cell_type": "markdown",
   "metadata": {
    "id": "gQUx-Dv68Tl5"
   },
   "source": [
    "# Conclusion"
   ]
  },
  {
   "cell_type": "markdown",
   "metadata": {},
   "source": [
    "Based on our Experiment using generator with and without augmented data and our analysis\n",
    "\n",
    "We can see LSTM networks combat the RNN's vanishing gradients or long-term dependence issue. Gradient vanishing refers to the loss of information in a neural network as connections recur over a longer period.\n",
    "In simple words, LSTM tackles gradient vanishing by ignoring useless data/information in the network.\n",
    "\n",
    "Here is the details result of CNN-LSTM Model:\n",
    "   - Training Accuracy : **93%**\n",
    "   - Validation Accuracy : **83%**\n",
    "   - Number of Parameters : **1,657,445** \n",
    "\n",
    "**Hence, we considered CNN-LSTM model is the best model, with below given weight for model testing.**\n",
    "\n",
    "The best weights of CNN-LSTM: model-00020-0.14990-0.96003-0.64083-0.83000.h5 (20 MB). "
   ]
  },
  {
   "cell_type": "markdown",
   "metadata": {
    "id": "tMd3pJI08Tl6"
   },
   "source": [
    "# Model Prediction"
   ]
  },
  {
   "cell_type": "code",
   "execution_count": 35,
   "metadata": {
    "id": "bTrP9-8S8Tl6"
   },
   "outputs": [],
   "source": [
    "import time\n",
    "from keras.models import load_model\n",
    "model = load_model('model_init_2023-02-1418_48_31.204017/model-00020-0.14990-0.96003-0.64083-0.83000.h5')"
   ]
  },
  {
   "cell_type": "code",
   "execution_count": 36,
   "metadata": {
    "id": "IQAxa6wT8Tl6"
   },
   "outputs": [],
   "source": [
    "test_generator=RNNCNN1()\n",
    "test_generator.initialize_path(project_folder)\n",
    "test_generator.initialize_image_properties(image_height=120,image_width=120)\n",
    "test_generator.initialize_hyperparams(frames_to_sample=18,batch_size=20,num_epochs=20)\n",
    "\n",
    "g=test_generator.generator(test_generator.val_path,test_generator.val_doc,augment=False)\n",
    "batch_data, batch_labels=next(g)"
   ]
  },
  {
   "cell_type": "code",
   "execution_count": 37,
   "metadata": {
    "id": "ea0isM3C8Tl6"
   },
   "outputs": [
    {
     "data": {
      "text/plain": [
       "array([[1., 0., 0., 0., 0.],\n",
       "       [0., 0., 1., 0., 0.],\n",
       "       [0., 0., 0., 0., 1.],\n",
       "       [0., 1., 0., 0., 0.],\n",
       "       [0., 0., 0., 1., 0.],\n",
       "       [0., 1., 0., 0., 0.],\n",
       "       [0., 0., 0., 1., 0.],\n",
       "       [0., 0., 0., 1., 0.],\n",
       "       [0., 0., 0., 1., 0.],\n",
       "       [0., 0., 0., 0., 1.],\n",
       "       [0., 0., 0., 0., 1.],\n",
       "       [0., 0., 0., 0., 1.],\n",
       "       [1., 0., 0., 0., 0.],\n",
       "       [0., 0., 0., 0., 1.],\n",
       "       [1., 0., 0., 0., 0.],\n",
       "       [0., 0., 1., 0., 0.],\n",
       "       [0., 1., 0., 0., 0.],\n",
       "       [1., 0., 0., 0., 0.],\n",
       "       [0., 0., 1., 0., 0.],\n",
       "       [0., 0., 1., 0., 0.]])"
      ]
     },
     "execution_count": 37,
     "metadata": {},
     "output_type": "execute_result"
    }
   ],
   "source": [
    "batch_labels"
   ]
  },
  {
   "cell_type": "code",
   "execution_count": 38,
   "metadata": {
    "id": "MtLHd7PB8Tl6"
   },
   "outputs": [
    {
     "name": "stdout",
     "output_type": "stream",
     "text": [
      "[0 2 4 1 3 1 3 3 3 0 4 4 0 4 0 2 0 0 2 2]\n"
     ]
    }
   ],
   "source": [
    "print(np.argmax(model.predict(batch_data[:,:,:,:,:]),axis=1))"
   ]
  },
  {
   "cell_type": "code",
   "execution_count": null,
   "metadata": {},
   "outputs": [],
   "source": []
  }
 ],
 "metadata": {
  "accelerator": "TPU",
  "colab": {
   "name": "",
   "version": ""
  },
  "gpuClass": "standard",
  "kernelspec": {
   "display_name": "Python 3",
   "language": "python",
   "name": "python3"
  },
  "language_info": {
   "codemirror_mode": {
    "name": "ipython",
    "version": 3
   },
   "file_extension": ".py",
   "mimetype": "text/x-python",
   "name": "python",
   "nbconvert_exporter": "python",
   "pygments_lexer": "ipython3",
   "version": "3.8.5"
  }
 },
 "nbformat": 4,
 "nbformat_minor": 1
}
